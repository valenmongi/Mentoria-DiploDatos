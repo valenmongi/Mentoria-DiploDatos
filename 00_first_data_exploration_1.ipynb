{
 "cells": [
  {
   "cell_type": "markdown",
   "metadata": {},
   "source": [
    "# Análisis de ventas a través de los comportamientos del consumidor"
   ]
  },
  {
   "cell_type": "markdown",
   "metadata": {},
   "source": [
    "## Motivación\n",
    "\n",
    "\n",
    "El conjunto de datos es una muestra de transacciones realizadas en una tienda. Nos gustaría conocer mejor el comportamiento de compra del cliente frente a diferentes productos. Un primer problema es, entonces, predecir el monto de la compra de un usuario con la ayuda de la información contenida en las otras variables.\n",
    "\n",
    "\n",
    "El problema de clasificación también se puede resolver en este conjunto de datos, ya que varias variables son categóricas y algunos otros enfoques podrían ser por ejemplo “Predecir la edad del consumidor” o incluso “Predecir la categoría de los bienes comprados”.\n",
    "\n",
    "\n",
    "Este conjunto de datos también es particularmente conveniente para agrupar y quizás encontrar diferentes grupos de consumidores dentro de él como así también ser capaces de generar recomendaciones de productos."
   ]
  },
  {
   "cell_type": "markdown",
   "metadata": {},
   "source": [
    "## Breve exploración del dataset"
   ]
  },
  {
   "cell_type": "markdown",
   "metadata": {},
   "source": [
    "El dataset *retail_sales.zip* se encuentra en el siguiente classroom: https://classroom.google.com/u/0/c/MzE2MDE2MTY4NzBa descargarlo y descomprimirlo."
   ]
  },
  {
   "cell_type": "code",
   "execution_count": 1,
   "metadata": {},
   "outputs": [],
   "source": [
    "import pandas as pd\n",
    "import seaborn\n",
    "import matplotlib as plt\n",
    "import numpy as np\n",
    "import plotly.plotly as py\n",
    "import plotly.figure_factory as ff"
   ]
  },
  {
   "cell_type": "markdown",
   "metadata": {},
   "source": [
    "### Cargamos el dataset"
   ]
  },
  {
   "cell_type": "code",
   "execution_count": 2,
   "metadata": {},
   "outputs": [],
   "source": [
    "retail_sales = pd.read_csv('retail_sales.csv')"
   ]
  },
  {
   "cell_type": "code",
   "execution_count": 3,
   "metadata": {},
   "outputs": [
    {
     "name": "stdout",
     "output_type": "stream",
     "text": [
      "<class 'pandas.core.frame.DataFrame'>\n",
      "RangeIndex: 537577 entries, 0 to 537576\n",
      "Data columns (total 12 columns):\n",
      "User_ID                       537577 non-null int64\n",
      "Product_ID                    537577 non-null object\n",
      "Gender                        537577 non-null object\n",
      "Age                           537577 non-null object\n",
      "Occupation                    537577 non-null int64\n",
      "City_Category                 537577 non-null object\n",
      "Stay_In_Current_City_Years    537577 non-null object\n",
      "Marital_Status                537577 non-null int64\n",
      "Product_Category_1            537577 non-null int64\n",
      "Product_Category_2            370591 non-null float64\n",
      "Product_Category_3            164278 non-null float64\n",
      "Purchase                      537577 non-null float64\n",
      "dtypes: float64(3), int64(4), object(5)\n",
      "memory usage: 49.2+ MB\n"
     ]
    }
   ],
   "source": [
    "retail_sales.info()"
   ]
  },
  {
   "cell_type": "code",
   "execution_count": 4,
   "metadata": {},
   "outputs": [
    {
     "data": {
      "text/html": [
       "<div>\n",
       "<style scoped>\n",
       "    .dataframe tbody tr th:only-of-type {\n",
       "        vertical-align: middle;\n",
       "    }\n",
       "\n",
       "    .dataframe tbody tr th {\n",
       "        vertical-align: top;\n",
       "    }\n",
       "\n",
       "    .dataframe thead th {\n",
       "        text-align: right;\n",
       "    }\n",
       "</style>\n",
       "<table border=\"1\" class=\"dataframe\">\n",
       "  <thead>\n",
       "    <tr style=\"text-align: right;\">\n",
       "      <th></th>\n",
       "      <th>User_ID</th>\n",
       "      <th>Product_ID</th>\n",
       "      <th>Gender</th>\n",
       "      <th>Age</th>\n",
       "      <th>Occupation</th>\n",
       "      <th>City_Category</th>\n",
       "      <th>Stay_In_Current_City_Years</th>\n",
       "      <th>Marital_Status</th>\n",
       "      <th>Product_Category_1</th>\n",
       "      <th>Product_Category_2</th>\n",
       "      <th>Product_Category_3</th>\n",
       "      <th>Purchase</th>\n",
       "    </tr>\n",
       "  </thead>\n",
       "  <tbody>\n",
       "    <tr>\n",
       "      <th>403939</th>\n",
       "      <td>1002095</td>\n",
       "      <td>P00295842</td>\n",
       "      <td>M</td>\n",
       "      <td>55+</td>\n",
       "      <td>13</td>\n",
       "      <td>C</td>\n",
       "      <td>1</td>\n",
       "      <td>1</td>\n",
       "      <td>5</td>\n",
       "      <td>8.0</td>\n",
       "      <td>NaN</td>\n",
       "      <td>54.27</td>\n",
       "    </tr>\n",
       "    <tr>\n",
       "      <th>91200</th>\n",
       "      <td>1002010</td>\n",
       "      <td>P00163342</td>\n",
       "      <td>M</td>\n",
       "      <td>18-25</td>\n",
       "      <td>4</td>\n",
       "      <td>B</td>\n",
       "      <td>0</td>\n",
       "      <td>0</td>\n",
       "      <td>6</td>\n",
       "      <td>8.0</td>\n",
       "      <td>NaN</td>\n",
       "      <td>80.61</td>\n",
       "    </tr>\n",
       "    <tr>\n",
       "      <th>470713</th>\n",
       "      <td>1000533</td>\n",
       "      <td>P00118542</td>\n",
       "      <td>M</td>\n",
       "      <td>26-35</td>\n",
       "      <td>12</td>\n",
       "      <td>A</td>\n",
       "      <td>1</td>\n",
       "      <td>0</td>\n",
       "      <td>5</td>\n",
       "      <td>8.0</td>\n",
       "      <td>NaN</td>\n",
       "      <td>70.96</td>\n",
       "    </tr>\n",
       "    <tr>\n",
       "      <th>437164</th>\n",
       "      <td>1001290</td>\n",
       "      <td>P00021742</td>\n",
       "      <td>M</td>\n",
       "      <td>36-45</td>\n",
       "      <td>0</td>\n",
       "      <td>C</td>\n",
       "      <td>1</td>\n",
       "      <td>0</td>\n",
       "      <td>5</td>\n",
       "      <td>NaN</td>\n",
       "      <td>NaN</td>\n",
       "      <td>53.87</td>\n",
       "    </tr>\n",
       "    <tr>\n",
       "      <th>425316</th>\n",
       "      <td>1005493</td>\n",
       "      <td>P00358442</td>\n",
       "      <td>M</td>\n",
       "      <td>36-45</td>\n",
       "      <td>12</td>\n",
       "      <td>B</td>\n",
       "      <td>3</td>\n",
       "      <td>0</td>\n",
       "      <td>1</td>\n",
       "      <td>15.0</td>\n",
       "      <td>NaN</td>\n",
       "      <td>152.55</td>\n",
       "    </tr>\n",
       "  </tbody>\n",
       "</table>\n",
       "</div>"
      ],
      "text/plain": [
       "        User_ID Product_ID Gender    Age  Occupation City_Category  \\\n",
       "403939  1002095  P00295842      M    55+          13             C   \n",
       "91200   1002010  P00163342      M  18-25           4             B   \n",
       "470713  1000533  P00118542      M  26-35          12             A   \n",
       "437164  1001290  P00021742      M  36-45           0             C   \n",
       "425316  1005493  P00358442      M  36-45          12             B   \n",
       "\n",
       "       Stay_In_Current_City_Years  Marital_Status  Product_Category_1  \\\n",
       "403939                          1               1                   5   \n",
       "91200                           0               0                   6   \n",
       "470713                          1               0                   5   \n",
       "437164                          1               0                   5   \n",
       "425316                          3               0                   1   \n",
       "\n",
       "        Product_Category_2  Product_Category_3  Purchase  \n",
       "403939                 8.0                 NaN     54.27  \n",
       "91200                  8.0                 NaN     80.61  \n",
       "470713                 8.0                 NaN     70.96  \n",
       "437164                 NaN                 NaN     53.87  \n",
       "425316                15.0                 NaN    152.55  "
      ]
     },
     "execution_count": 4,
     "metadata": {},
     "output_type": "execute_result"
    }
   ],
   "source": [
    "retail_sales.sample(5)"
   ]
  },
  {
   "cell_type": "markdown",
   "metadata": {},
   "source": [
    "### Descripción de las columnas:\n",
    "\n",
    "- $\\textit{User_ID}$: identificador unívoco de cada usuario.\n",
    "- $\\textit{Product_ID}$: identificador unívoco de cada producto.\n",
    "- $\\textit{Gender}$: género del usuario, F $\\rightarrow$ Femenino, M $\\rightarrow$ Masculino.\n",
    "- $\\textit{Age}$: edad del usuario representada por rangos, es decir, no se conoce la edad exacta del usuario sino el rango de edad al cual pertenece.\n",
    "- $\\textit{Occupation}$: ocupación del usuario, existen 21 ocupaciones distintas, cada una de ellas está identificada con un número del 0 al 20.\n",
    "- $\\textit{City_Category}$: categoría de ciudad en la que vive el usuario, existen 3 categorías: A - B - C.\n",
    "- $\\textit{Stay_In_Current_City_Years}$: tiempo de permanecia del usuario en la ciudad actual expresada en años. Nota: el valor 0 significa que el tiempo de permanencia del usuario en esa ciudad ha sido menor a un año, no es un valor inválido.\n",
    "- $\\textit{Marital_Status}$: estado civil del usuario, valor 0 $\\rightarrow$ Soltero, valor 1 $\\rightarrow$ Casado\n",
    "- $\\textit{Product_Category_1}$: categoria 1 del producto.\n",
    "- $\\textit{Product_Category_2}$: categoria 2 del producto, probablemente sea una subcategoria de 1.\n",
    "- $\\textit{Product_Category_3}$: categoria 3 del producto, probablemente sea una subcategoria de 2.\n",
    "- $\\textit{Purchase}$: precio que el usuario pagó por el producto expresado en dólares."
   ]
  },
  {
   "cell_type": "markdown",
   "metadata": {},
   "source": [
    "**En Primer lugar se extraen las columnas *Product_Category_2* y *Product_Category_3***"
   ]
  },
  {
   "cell_type": "code",
   "execution_count": 5,
   "metadata": {},
   "outputs": [],
   "source": [
    "dataset = retail_sales.drop(['Product_Category_2', 'Product_Category_3'], axis=1)"
   ]
  },
  {
   "cell_type": "code",
   "execution_count": 6,
   "metadata": {},
   "outputs": [
    {
     "data": {
      "text/html": [
       "<div>\n",
       "<style scoped>\n",
       "    .dataframe tbody tr th:only-of-type {\n",
       "        vertical-align: middle;\n",
       "    }\n",
       "\n",
       "    .dataframe tbody tr th {\n",
       "        vertical-align: top;\n",
       "    }\n",
       "\n",
       "    .dataframe thead th {\n",
       "        text-align: right;\n",
       "    }\n",
       "</style>\n",
       "<table border=\"1\" class=\"dataframe\">\n",
       "  <thead>\n",
       "    <tr style=\"text-align: right;\">\n",
       "      <th></th>\n",
       "      <th>User_ID</th>\n",
       "      <th>Product_ID</th>\n",
       "      <th>Gender</th>\n",
       "      <th>Age</th>\n",
       "      <th>Occupation</th>\n",
       "      <th>City_Category</th>\n",
       "      <th>Stay_In_Current_City_Years</th>\n",
       "      <th>Marital_Status</th>\n",
       "      <th>Product_Category_1</th>\n",
       "      <th>Purchase</th>\n",
       "    </tr>\n",
       "  </thead>\n",
       "  <tbody>\n",
       "    <tr>\n",
       "      <th>29632</th>\n",
       "      <td>1004497</td>\n",
       "      <td>P00240142</td>\n",
       "      <td>M</td>\n",
       "      <td>51-55</td>\n",
       "      <td>0</td>\n",
       "      <td>B</td>\n",
       "      <td>3</td>\n",
       "      <td>1</td>\n",
       "      <td>5</td>\n",
       "      <td>86.22</td>\n",
       "    </tr>\n",
       "    <tr>\n",
       "      <th>525578</th>\n",
       "      <td>1003007</td>\n",
       "      <td>P00053742</td>\n",
       "      <td>M</td>\n",
       "      <td>36-45</td>\n",
       "      <td>0</td>\n",
       "      <td>C</td>\n",
       "      <td>1</td>\n",
       "      <td>1</td>\n",
       "      <td>5</td>\n",
       "      <td>71.82</td>\n",
       "    </tr>\n",
       "    <tr>\n",
       "      <th>338822</th>\n",
       "      <td>1004116</td>\n",
       "      <td>P00235642</td>\n",
       "      <td>M</td>\n",
       "      <td>36-45</td>\n",
       "      <td>7</td>\n",
       "      <td>A</td>\n",
       "      <td>2</td>\n",
       "      <td>0</td>\n",
       "      <td>8</td>\n",
       "      <td>80.28</td>\n",
       "    </tr>\n",
       "    <tr>\n",
       "      <th>346781</th>\n",
       "      <td>1005412</td>\n",
       "      <td>P00192542</td>\n",
       "      <td>M</td>\n",
       "      <td>26-35</td>\n",
       "      <td>12</td>\n",
       "      <td>A</td>\n",
       "      <td>3</td>\n",
       "      <td>0</td>\n",
       "      <td>1</td>\n",
       "      <td>158.37</td>\n",
       "    </tr>\n",
       "    <tr>\n",
       "      <th>220076</th>\n",
       "      <td>1003931</td>\n",
       "      <td>P00133742</td>\n",
       "      <td>M</td>\n",
       "      <td>26-35</td>\n",
       "      <td>5</td>\n",
       "      <td>C</td>\n",
       "      <td>1</td>\n",
       "      <td>0</td>\n",
       "      <td>5</td>\n",
       "      <td>54.09</td>\n",
       "    </tr>\n",
       "  </tbody>\n",
       "</table>\n",
       "</div>"
      ],
      "text/plain": [
       "        User_ID Product_ID Gender    Age  Occupation City_Category  \\\n",
       "29632   1004497  P00240142      M  51-55           0             B   \n",
       "525578  1003007  P00053742      M  36-45           0             C   \n",
       "338822  1004116  P00235642      M  36-45           7             A   \n",
       "346781  1005412  P00192542      M  26-35          12             A   \n",
       "220076  1003931  P00133742      M  26-35           5             C   \n",
       "\n",
       "       Stay_In_Current_City_Years  Marital_Status  Product_Category_1  \\\n",
       "29632                           3               1                   5   \n",
       "525578                          1               1                   5   \n",
       "338822                          2               0                   8   \n",
       "346781                          3               0                   1   \n",
       "220076                          1               0                   5   \n",
       "\n",
       "        Purchase  \n",
       "29632      86.22  \n",
       "525578     71.82  \n",
       "338822     80.28  \n",
       "346781    158.37  \n",
       "220076     54.09  "
      ]
     },
     "execution_count": 6,
     "metadata": {},
     "output_type": "execute_result"
    }
   ],
   "source": [
    "dataset.sample(5)"
   ]
  },
  {
   "cell_type": "code",
   "execution_count": 7,
   "metadata": {},
   "outputs": [
    {
     "data": {
      "text/html": [
       "<div>\n",
       "<style scoped>\n",
       "    .dataframe tbody tr th:only-of-type {\n",
       "        vertical-align: middle;\n",
       "    }\n",
       "\n",
       "    .dataframe tbody tr th {\n",
       "        vertical-align: top;\n",
       "    }\n",
       "\n",
       "    .dataframe thead th {\n",
       "        text-align: right;\n",
       "    }\n",
       "</style>\n",
       "<table border=\"1\" class=\"dataframe\">\n",
       "  <thead>\n",
       "    <tr style=\"text-align: right;\">\n",
       "      <th></th>\n",
       "      <th>User_ID</th>\n",
       "      <th>Occupation</th>\n",
       "      <th>Marital_Status</th>\n",
       "      <th>Product_Category_1</th>\n",
       "      <th>Purchase</th>\n",
       "    </tr>\n",
       "  </thead>\n",
       "  <tbody>\n",
       "    <tr>\n",
       "      <th>count</th>\n",
       "      <td>5.375770e+05</td>\n",
       "      <td>537577.00000</td>\n",
       "      <td>537577.000000</td>\n",
       "      <td>537577.000000</td>\n",
       "      <td>537577.000000</td>\n",
       "    </tr>\n",
       "    <tr>\n",
       "      <th>mean</th>\n",
       "      <td>1.002992e+06</td>\n",
       "      <td>8.08271</td>\n",
       "      <td>0.408797</td>\n",
       "      <td>5.295546</td>\n",
       "      <td>93.338599</td>\n",
       "    </tr>\n",
       "    <tr>\n",
       "      <th>std</th>\n",
       "      <td>1.714393e+03</td>\n",
       "      <td>6.52412</td>\n",
       "      <td>0.491612</td>\n",
       "      <td>3.750701</td>\n",
       "      <td>49.810221</td>\n",
       "    </tr>\n",
       "    <tr>\n",
       "      <th>min</th>\n",
       "      <td>1.000001e+06</td>\n",
       "      <td>0.00000</td>\n",
       "      <td>0.000000</td>\n",
       "      <td>1.000000</td>\n",
       "      <td>1.850000</td>\n",
       "    </tr>\n",
       "    <tr>\n",
       "      <th>25%</th>\n",
       "      <td>1.001495e+06</td>\n",
       "      <td>2.00000</td>\n",
       "      <td>0.000000</td>\n",
       "      <td>1.000000</td>\n",
       "      <td>58.660000</td>\n",
       "    </tr>\n",
       "    <tr>\n",
       "      <th>50%</th>\n",
       "      <td>1.003031e+06</td>\n",
       "      <td>7.00000</td>\n",
       "      <td>0.000000</td>\n",
       "      <td>5.000000</td>\n",
       "      <td>80.620000</td>\n",
       "    </tr>\n",
       "    <tr>\n",
       "      <th>75%</th>\n",
       "      <td>1.004417e+06</td>\n",
       "      <td>14.00000</td>\n",
       "      <td>1.000000</td>\n",
       "      <td>8.000000</td>\n",
       "      <td>120.730000</td>\n",
       "    </tr>\n",
       "    <tr>\n",
       "      <th>max</th>\n",
       "      <td>1.006040e+06</td>\n",
       "      <td>20.00000</td>\n",
       "      <td>1.000000</td>\n",
       "      <td>18.000000</td>\n",
       "      <td>239.610000</td>\n",
       "    </tr>\n",
       "  </tbody>\n",
       "</table>\n",
       "</div>"
      ],
      "text/plain": [
       "            User_ID    Occupation  Marital_Status  Product_Category_1  \\\n",
       "count  5.375770e+05  537577.00000   537577.000000       537577.000000   \n",
       "mean   1.002992e+06       8.08271        0.408797            5.295546   \n",
       "std    1.714393e+03       6.52412        0.491612            3.750701   \n",
       "min    1.000001e+06       0.00000        0.000000            1.000000   \n",
       "25%    1.001495e+06       2.00000        0.000000            1.000000   \n",
       "50%    1.003031e+06       7.00000        0.000000            5.000000   \n",
       "75%    1.004417e+06      14.00000        1.000000            8.000000   \n",
       "max    1.006040e+06      20.00000        1.000000           18.000000   \n",
       "\n",
       "            Purchase  \n",
       "count  537577.000000  \n",
       "mean       93.338599  \n",
       "std        49.810221  \n",
       "min         1.850000  \n",
       "25%        58.660000  \n",
       "50%        80.620000  \n",
       "75%       120.730000  \n",
       "max       239.610000  "
      ]
     },
     "execution_count": 7,
     "metadata": {},
     "output_type": "execute_result"
    }
   ],
   "source": [
    "dataset.describe()"
   ]
  },
  {
   "cell_type": "markdown",
   "metadata": {},
   "source": [
    "**1. Cantidad total de órdenes, usuarios y productos.**"
   ]
  },
  {
   "cell_type": "code",
   "execution_count": 8,
   "metadata": {},
   "outputs": [],
   "source": [
    "cantidad = ['User_ID', 'Product_ID']"
   ]
  },
  {
   "cell_type": "code",
   "execution_count": 9,
   "metadata": {},
   "outputs": [
    {
     "name": "stdout",
     "output_type": "stream",
     "text": [
      "El número total de órdenes asciende a  537577\n"
     ]
    },
    {
     "data": {
      "text/html": [
       "<div>\n",
       "<style scoped>\n",
       "    .dataframe tbody tr th:only-of-type {\n",
       "        vertical-align: middle;\n",
       "    }\n",
       "\n",
       "    .dataframe tbody tr th {\n",
       "        vertical-align: top;\n",
       "    }\n",
       "\n",
       "    .dataframe thead th {\n",
       "        text-align: right;\n",
       "    }\n",
       "</style>\n",
       "<table border=\"1\" class=\"dataframe\">\n",
       "  <thead>\n",
       "    <tr style=\"text-align: right;\">\n",
       "      <th></th>\n",
       "      <th>0</th>\n",
       "    </tr>\n",
       "  </thead>\n",
       "  <tbody>\n",
       "    <tr>\n",
       "      <th>User_ID</th>\n",
       "      <td>5891</td>\n",
       "    </tr>\n",
       "    <tr>\n",
       "      <th>Product_ID</th>\n",
       "      <td>3623</td>\n",
       "    </tr>\n",
       "  </tbody>\n",
       "</table>\n",
       "</div>"
      ],
      "text/plain": [
       "               0\n",
       "User_ID     5891\n",
       "Product_ID  3623"
      ]
     },
     "execution_count": 9,
     "metadata": {},
     "output_type": "execute_result"
    }
   ],
   "source": [
    "print('El número total de órdenes asciende a ', dataset['User_ID'].count())\n",
    "cant = pd.DataFrame(dataset[cantidad].nunique())\n",
    "cant"
   ]
  },
  {
   "cell_type": "markdown",
   "metadata": {},
   "source": [
    "**2. Calcular estadísticos: media, mediana, moda, desviación estándar, valor mínimo, valor máximo de la cantidad de compras por usuario. Gráficar. A qué distribución conocida corresponde? Qué se puede concluir?**"
   ]
  },
  {
   "cell_type": "code",
   "execution_count": 10,
   "metadata": {},
   "outputs": [
    {
     "data": {
      "text/html": [
       "<div>\n",
       "<style scoped>\n",
       "    .dataframe tbody tr th:only-of-type {\n",
       "        vertical-align: middle;\n",
       "    }\n",
       "\n",
       "    .dataframe tbody tr th {\n",
       "        vertical-align: top;\n",
       "    }\n",
       "\n",
       "    .dataframe thead th {\n",
       "        text-align: right;\n",
       "    }\n",
       "</style>\n",
       "<table border=\"1\" class=\"dataframe\">\n",
       "  <thead>\n",
       "    <tr style=\"text-align: right;\">\n",
       "      <th></th>\n",
       "      <th>0</th>\n",
       "    </tr>\n",
       "  </thead>\n",
       "  <tbody>\n",
       "    <tr>\n",
       "      <th>count</th>\n",
       "      <td>5891.000000</td>\n",
       "    </tr>\n",
       "    <tr>\n",
       "      <th>mean</th>\n",
       "      <td>91.253947</td>\n",
       "    </tr>\n",
       "    <tr>\n",
       "      <th>std</th>\n",
       "      <td>105.929800</td>\n",
       "    </tr>\n",
       "    <tr>\n",
       "      <th>min</th>\n",
       "      <td>5.000000</td>\n",
       "    </tr>\n",
       "    <tr>\n",
       "      <th>25%</th>\n",
       "      <td>25.000000</td>\n",
       "    </tr>\n",
       "    <tr>\n",
       "      <th>50%</th>\n",
       "      <td>53.000000</td>\n",
       "    </tr>\n",
       "    <tr>\n",
       "      <th>75%</th>\n",
       "      <td>114.000000</td>\n",
       "    </tr>\n",
       "    <tr>\n",
       "      <th>max</th>\n",
       "      <td>1025.000000</td>\n",
       "    </tr>\n",
       "  </tbody>\n",
       "</table>\n",
       "</div>"
      ],
      "text/plain": [
       "                 0\n",
       "count  5891.000000\n",
       "mean     91.253947\n",
       "std     105.929800\n",
       "min       5.000000\n",
       "25%      25.000000\n",
       "50%      53.000000\n",
       "75%     114.000000\n",
       "max    1025.000000"
      ]
     },
     "execution_count": 10,
     "metadata": {},
     "output_type": "execute_result"
    }
   ],
   "source": [
    "user_purch = pd.DataFrame(dataset.groupby('User_ID').size())\n",
    "user_purch.describe()"
   ]
  },
  {
   "cell_type": "code",
   "execution_count": 11,
   "metadata": {},
   "outputs": [
    {
     "name": "stdout",
     "output_type": "stream",
     "text": [
      "La mediana de compra por cada usuario se ubicó en  0    53.0\n",
      "dtype: float64 \n",
      " y la moda de las compras por usuario fue igual a      0\n",
      "0  17\n"
     ]
    }
   ],
   "source": [
    "print('La mediana de compra por cada usuario se ubicó en ', user_purch.median(), '\\n', 'y la moda de las compras por usuario fue igual a ', user_purch.mode())"
   ]
  },
  {
   "cell_type": "code",
   "execution_count": 13,
   "metadata": {},
   "outputs": [
    {
     "data": {
      "text/plain": [
       "(0, 1116.6209571460904)"
      ]
     },
     "execution_count": 13,
     "metadata": {},
     "output_type": "execute_result"
    },
    {
     "data": {
      "image/png": "[encoded data removed]",
      "text/plain": [
       "<Figure size 720x432 with 1 Axes>"
      ]
     },
     "metadata": {
      "needs_background": "light"
     },
     "output_type": "display_data"
    }
   ],
   "source": [
    "plt.pyplot.figure(figsize=(10,6))\n",
    "seaborn.distplot(user_purch)\n",
    "seaborn.despine()\n",
    "plt.pyplot.title(\"Cantidad de Compras por Usuario\")\n",
    "plt.pyplot.xlim(0,None)"
   ]
  },
  {
   "cell_type": "markdown",
   "metadata": {},
   "source": [
    "La cantidad de compras por usuario es marcadamente asimétrica derecha, lo que es señal de que esta variable sigue una distribución exponencial. Esto significa que el comportamiento más repetido (la moda) es una pequeña cantidad de compras (17), y que las compras de mayores cantidades son cada vez más extrañas entre los usuarios. Se puede observar además en base a la mediana, que la mitad de los usuarios compró como máximo 53 veces, aunque el promedio de compras sea de 91.25. Este último valor es afectado por la clara asimetría de la distribución, por lo que no es una buena medida representativa de los datos."
   ]
  },
  {
   "cell_type": "code",
   "execution_count": 14,
   "metadata": {},
   "outputs": [
    {
     "data": {
      "text/plain": [
       "Text(0.5, 1.0, 'ViolinPlot - Cantidad de Compras por Usuario')"
      ]
     },
     "execution_count": 14,
     "metadata": {},
     "output_type": "execute_result"
    },
    {
     "data": {
      "image/png": "[encoded data removed]",
      "text/plain": [
       "<Figure size 432x288 with 1 Axes>"
      ]
     },
     "metadata": {
      "needs_background": "light"
     },
     "output_type": "display_data"
    }
   ],
   "source": [
    "\n",
    "seaborn.violinplot(user_purch, color='lightblue', orient='h')\n",
    "seaborn.despine()\n",
    "plt.pyplot.title(\"ViolinPlot - Cantidad de Compras por Usuario\")\n"
   ]
  },
  {
   "cell_type": "markdown",
   "metadata": {},
   "source": [
    "El resultado obtenido en el ViolinPlot coincide con la gráfica observada previamente: valores concentrados en números altos de la serie, lo que responde a la asimetría de los datos. En estos casos, tanto el ViolinPlot como el BoxPlot no resultan de utilidad para la detección de **valores atípicos** "
   ]
  },
  {
   "cell_type": "markdown",
   "metadata": {},
   "source": [
    "**3. Calcular media, mediana, desviación estándar, valor mínimo, valor máximo de los valores de compras. Determinar valores atípicos (outliers) y graficar. El porcentaje de valores atípicos es muy alto? Analizar por género, edad, ocupación de los consumidores.**"
   ]
  },
  {
   "cell_type": "code",
   "execution_count": 15,
   "metadata": {},
   "outputs": [
    {
     "data": {
      "text/html": [
       "<div>\n",
       "<style scoped>\n",
       "    .dataframe tbody tr th:only-of-type {\n",
       "        vertical-align: middle;\n",
       "    }\n",
       "\n",
       "    .dataframe tbody tr th {\n",
       "        vertical-align: top;\n",
       "    }\n",
       "\n",
       "    .dataframe thead th {\n",
       "        text-align: right;\n",
       "    }\n",
       "</style>\n",
       "<table border=\"1\" class=\"dataframe\">\n",
       "  <thead>\n",
       "    <tr style=\"text-align: right;\">\n",
       "      <th></th>\n",
       "      <th>Purchase</th>\n",
       "    </tr>\n",
       "  </thead>\n",
       "  <tbody>\n",
       "    <tr>\n",
       "      <th>count</th>\n",
       "      <td>537577.000000</td>\n",
       "    </tr>\n",
       "    <tr>\n",
       "      <th>mean</th>\n",
       "      <td>93.338599</td>\n",
       "    </tr>\n",
       "    <tr>\n",
       "      <th>std</th>\n",
       "      <td>49.810221</td>\n",
       "    </tr>\n",
       "    <tr>\n",
       "      <th>min</th>\n",
       "      <td>1.850000</td>\n",
       "    </tr>\n",
       "    <tr>\n",
       "      <th>25%</th>\n",
       "      <td>58.660000</td>\n",
       "    </tr>\n",
       "    <tr>\n",
       "      <th>50%</th>\n",
       "      <td>80.620000</td>\n",
       "    </tr>\n",
       "    <tr>\n",
       "      <th>75%</th>\n",
       "      <td>120.730000</td>\n",
       "    </tr>\n",
       "    <tr>\n",
       "      <th>max</th>\n",
       "      <td>239.610000</td>\n",
       "    </tr>\n",
       "  </tbody>\n",
       "</table>\n",
       "</div>"
      ],
      "text/plain": [
       "            Purchase\n",
       "count  537577.000000\n",
       "mean       93.338599\n",
       "std        49.810221\n",
       "min         1.850000\n",
       "25%        58.660000\n",
       "50%        80.620000\n",
       "75%       120.730000\n",
       "max       239.610000"
      ]
     },
     "execution_count": 15,
     "metadata": {},
     "output_type": "execute_result"
    }
   ],
   "source": [
    "purchase = pd.DataFrame(dataset['Purchase'])\n",
    "purchase.describe()"
   ]
  },
  {
   "cell_type": "code",
   "execution_count": 16,
   "metadata": {},
   "outputs": [
    {
     "name": "stdout",
     "output_type": "stream",
     "text": [
      "La mediana de cada compra se ubicó en  Purchase    80.62\n",
      "dtype: float64 \n",
      " y la moda de las compras fue igual a     Purchase\n",
      "0     68.55\n"
     ]
    }
   ],
   "source": [
    "print('La mediana de cada compra se ubicó en ', purchase.median(), '\\n', 'y la moda de las compras fue igual a ', purchase.mode())"
   ]
  },
  {
   "cell_type": "code",
   "execution_count": 17,
   "metadata": {},
   "outputs": [
    {
     "data": {
      "text/plain": [
       "(0, 262.98460164028415)"
      ]
     },
     "execution_count": 17,
     "metadata": {},
     "output_type": "execute_result"
    },
    {
     "data": {
      "image/png": "[encoded data removed]",
      "text/plain": [
       "<Figure size 720x432 with 1 Axes>"
      ]
     },
     "metadata": {
      "needs_background": "light"
     },
     "output_type": "display_data"
    }
   ],
   "source": [
    "plt.pyplot.figure(figsize=(10,6))\n",
    "seaborn.distplot(purchase, color='lightgreen')\n",
    "seaborn.despine()\n",
    "plt.pyplot.title(\"Valor de las Compras\")\n",
    "plt.pyplot.xlim(0,None)"
   ]
  },
  {
   "cell_type": "markdown",
   "metadata": {},
   "source": [
    "Como se ve en el gráfico, los datos no siguen una distribución normal en todo su rango. Probablemente entre el rango 0-150 podría asimilarse a una función normal, pero viendo la serie en su totalidad, esta presenta una asimetría derecha, dado que en el extremo derecho de la serie aún persiste una frecuencia elevada de montos comprados."
   ]
  },
  {
   "cell_type": "code",
   "execution_count": 18,
   "metadata": {},
   "outputs": [
    {
     "data": {
      "image/png": "[encoded data removed]",
      "text/plain": [
       "<Figure size 432x288 with 1 Axes>"
      ]
     },
     "metadata": {
      "needs_background": "light"
     },
     "output_type": "display_data"
    }
   ],
   "source": [
    "seaborn.distplot(purchase[purchase < 150].dropna(),bins=20, color='lightgreen')\n",
    "seaborn.despine()"
   ]
  },
  {
   "cell_type": "code",
   "execution_count": 19,
   "metadata": {},
   "outputs": [
    {
     "data": {
      "text/plain": [
       "Text(0.5, 1.0, 'ViolinPlot - Cantidad de Compras por Usuario')"
      ]
     },
     "execution_count": 19,
     "metadata": {},
     "output_type": "execute_result"
    },
    {
     "data": {
      "image/png": "[encoded data removed]",
      "text/plain": [
       "<Figure size 432x288 with 1 Axes>"
      ]
     },
     "metadata": {
      "needs_background": "light"
     },
     "output_type": "display_data"
    }
   ],
   "source": [
    "seaborn.violinplot(user_purch, color='lightgreen', orient='h')\n",
    "seaborn.despine()\n",
    "plt.pyplot.title(\"ViolinPlot - Cantidad de Compras por Usuario\")"
   ]
  },
  {
   "cell_type": "markdown",
   "metadata": {},
   "source": [
    "*Identificación de los valores atípicos*"
   ]
  },
  {
   "cell_type": "code",
   "execution_count": 20,
   "metadata": {},
   "outputs": [
    {
     "name": "stdout",
     "output_type": "stream",
     "text": [
      "El primer cuartil es igual a  58.66\n"
     ]
    }
   ],
   "source": [
    "q1=np.percentile(purchase,25)\n",
    "print('El primer cuartil es igual a ', q1)"
   ]
  },
  {
   "cell_type": "code",
   "execution_count": 21,
   "metadata": {},
   "outputs": [
    {
     "name": "stdout",
     "output_type": "stream",
     "text": [
      "El tercer cuartil es igual a  120.73\n"
     ]
    }
   ],
   "source": [
    "q3=np.percentile(purchase,75)\n",
    "print('El tercer cuartil es igual a ', q3)"
   ]
  },
  {
   "cell_type": "code",
   "execution_count": 22,
   "metadata": {},
   "outputs": [
    {
     "name": "stdout",
     "output_type": "stream",
     "text": [
      "El rango intercuartil es igual a  62.07000000000001\n"
     ]
    }
   ],
   "source": [
    "iqr=q3-q1\n",
    "print('El rango intercuartil es igual a ', iqr)"
   ]
  },
  {
   "cell_type": "code",
   "execution_count": 23,
   "metadata": {},
   "outputs": [
    {
     "name": "stdout",
     "output_type": "stream",
     "text": [
      "El último cuartil es igual a  213.83500000000004\n"
     ]
    }
   ],
   "source": [
    "q4 = q3+iqr*1.5\n",
    "print('El último cuartil es igual a ', q4)"
   ]
  },
  {
   "cell_type": "code",
   "execution_count": 24,
   "metadata": {},
   "outputs": [
    {
     "name": "stdout",
     "output_type": "stream",
     "text": [
      "Cantidad de valores mayores al limite superior : 2665\n"
     ]
    }
   ],
   "source": [
    "print( \"Cantidad de valores mayores al limite superior :\",len(dataset[dataset['Purchase'] > q4]))"
   ]
  },
  {
   "cell_type": "code",
   "execution_count": 25,
   "metadata": {},
   "outputs": [
    {
     "name": "stdout",
     "output_type": "stream",
     "text": [
      "Proporción de valores mayores al limite superior : 0.004957429354306453\n"
     ]
    }
   ],
   "source": [
    "print( \"Proporción de valores mayores al limite superior :\", len(dataset[dataset['Purchase'] > q4])/len(dataset['Purchase']))"
   ]
  },
  {
   "cell_type": "code",
   "execution_count": 26,
   "metadata": {},
   "outputs": [],
   "source": [
    "purch_out = dataset[dataset['Purchase'] > q4]"
   ]
  },
  {
   "cell_type": "markdown",
   "metadata": {},
   "source": [
    "**Outliers por Género**"
   ]
  },
  {
   "cell_type": "code",
   "execution_count": 27,
   "metadata": {},
   "outputs": [
    {
     "data": {
      "text/plain": [
       "<matplotlib.legend.Legend at 0x1600ad406a0>"
      ]
     },
     "execution_count": 27,
     "metadata": {},
     "output_type": "execute_result"
    },
    {
     "data": {
      "image/png": "[encoded data removed]",
      "text/plain": [
       "<Figure size 720x432 with 1 Axes>"
      ]
     },
     "metadata": {
      "needs_background": "light"
     },
     "output_type": "display_data"
    }
   ],
   "source": [
    "plt.pyplot.figure(figsize=(10,6))\n",
    "seaborn.distplot(\n",
    "    dataset[dataset['Gender'] == 'M']['Purchase'], \n",
    "                label='Male', color='green')\n",
    "seaborn.distplot(\n",
    "    dataset[dataset['Gender'] == 'F']['Purchase'], \n",
    "                label='Female', color='pink')\n",
    "seaborn.despine()\n",
    "plt.pyplot.title(\"Valor de las Compras\")\n",
    "plt.pyplot.xlim(0,None)\n",
    "plt.pyplot.legend()"
   ]
  },
  {
   "cell_type": "markdown",
   "metadata": {},
   "source": [
    "En el gráfico precedente se puede obervar como las mujeres presentan una mayor proporci+on de outliers en realción a los hombres en compras menos costosas, mientras que se presenta una mayor cantidad de outliers masculinos en compras de mayor valor; por encima de los U$S 150."
   ]
  },
  {
   "cell_type": "code",
   "execution_count": 28,
   "metadata": {},
   "outputs": [
    {
     "data": {
      "image/png": "[encoded data removed]",
      "text/plain": [
       "<Figure size 432x288 with 1 Axes>"
      ]
     },
     "metadata": {
      "needs_background": "light"
     },
     "output_type": "display_data"
    }
   ],
   "source": [
    "seaborn.countplot(x='Gender', data=purch_out)\n",
    "plt.pyplot.title(\"Cantidad de Outliers por Género\")\n",
    "seaborn.despine()"
   ]
  },
  {
   "cell_type": "markdown",
   "metadata": {},
   "source": [
    "Los outliers masculinos superan los 2000 compradores mientras que los outliers de género femenino superan apenas los 500."
   ]
  },
  {
   "cell_type": "markdown",
   "metadata": {},
   "source": [
    "**Outliers por Edad**"
   ]
  },
  {
   "cell_type": "code",
   "execution_count": 29,
   "metadata": {},
   "outputs": [
    {
     "data": {
      "image/png": "[encoded data removed]",
      "text/plain": [
       "<Figure size 432x288 with 1 Axes>"
      ]
     },
     "metadata": {
      "needs_background": "light"
     },
     "output_type": "display_data"
    }
   ],
   "source": [
    "seaborn.countplot(x='Age', data=purch_out, order = purch_out['Age'].value_counts().index)\n",
    "plt.pyplot.title(\"Cantidad de Outliers por Edad\")\n",
    "seaborn.despine()"
   ]
  },
  {
   "cell_type": "markdown",
   "metadata": {},
   "source": [
    "La mayor cantidad de outliers se ubican en el rango de edad que va desde los 26 a los 35 años; en dicho rango los outliers superan los 800 compradores. Le siguen en orden de importancia los usuarios que tienen entre 36 y 45 años. Aquellos compradores entre 0 y 17 años solo presentan alrededor de 100 outliers."
   ]
  },
  {
   "cell_type": "markdown",
   "metadata": {},
   "source": [
    "**Outliers por Ocupación**"
   ]
  },
  {
   "cell_type": "code",
   "execution_count": 30,
   "metadata": {},
   "outputs": [
    {
     "data": {
      "image/png": "[encoded data removed]",
      "text/plain": [
       "<Figure size 432x288 with 1 Axes>"
      ]
     },
     "metadata": {
      "needs_background": "light"
     },
     "output_type": "display_data"
    },
    {
     "data": {
      "image/png": "[encoded data removed]",
      "text/plain": [
       "<Figure size 432x288 with 1 Axes>"
      ]
     },
     "metadata": {
      "needs_background": "light"
     },
     "output_type": "display_data"
    }
   ],
   "source": [
    "plt.pyplot.figure(figsize=(6,4))\n",
    "seaborn.countplot(x='Occupation', data=purch_out)\n",
    "plt.pyplot.title(\"Cantidad de Outliers por Ocupación\")\n",
    "seaborn.despine()\n",
    "\n",
    "plt.pyplot.figure(figsize=(6,4))\n",
    "seaborn.countplot(x='Occupation', data=purch_out, order = purch_out['Occupation'].value_counts().index)\n",
    "plt.pyplot.title(\"Cantidad de Outliers por Ocupación-Ordenado-\")\n",
    "seaborn.despine()"
   ]
  },
  {
   "cell_type": "markdown",
   "metadata": {},
   "source": [
    "La profesión 0 es la que mas outliers registra, superando los 300 compradores. Le siguen las profesiones 4 y 7 que contienen 250 outliers, respectivamente, en promedio. La ocupación que menos compradores fuera de serie que presenta es la 8, con menos de 25 outliers."
   ]
  },
  {
   "cell_type": "markdown",
   "metadata": {},
   "source": [
    "**4. Top productos más vendidos, a qué categorias pertenecen? (tener en cuenta solo la columna Product_Category_1 ). Estos productos son consumidos por usuarios de todas las edades o algunos rangos en particular? Graficar productos más vendidos por edad y por género**"
   ]
  },
  {
   "cell_type": "code",
   "execution_count": 31,
   "metadata": {
    "scrolled": false
   },
   "outputs": [
    {
     "data": {
      "image/png": "[encoded data removed]",
      "text/plain": [
       "<Figure size 720x432 with 1 Axes>"
      ]
     },
     "metadata": {
      "needs_background": "light"
     },
     "output_type": "display_data"
    }
   ],
   "source": [
    "plt.pyplot.figure(figsize=(10,6)) \n",
    "seaborn.set_style('whitegrid')\n",
    "pid_count = retail_sales['Product_ID'].value_counts()[:10]\n",
    "ax = seaborn.barplot(x=pid_count.index, y=pid_count.values).set_title('Top 10 productos más vendidos')\n",
    "seaborn.despine()"
   ]
  },
  {
   "cell_type": "code",
   "execution_count": 32,
   "metadata": {},
   "outputs": [],
   "source": [
    "prod_sold = pd.DataFrame(dataset.groupby('Product_ID').size())\n",
    "top_10 = prod_sold.sort_values(0, ascending=False)[0:10]"
   ]
  },
  {
   "cell_type": "code",
   "execution_count": 33,
   "metadata": {
    "scrolled": false
   },
   "outputs": [
    {
     "data": {
      "text/html": [
       "<div>\n",
       "<style scoped>\n",
       "    .dataframe tbody tr th:only-of-type {\n",
       "        vertical-align: middle;\n",
       "    }\n",
       "\n",
       "    .dataframe tbody tr th {\n",
       "        vertical-align: top;\n",
       "    }\n",
       "\n",
       "    .dataframe thead th {\n",
       "        text-align: right;\n",
       "    }\n",
       "</style>\n",
       "<table border=\"1\" class=\"dataframe\">\n",
       "  <thead>\n",
       "    <tr style=\"text-align: right;\">\n",
       "      <th></th>\n",
       "      <th>0</th>\n",
       "    </tr>\n",
       "    <tr>\n",
       "      <th>Product_ID</th>\n",
       "      <th></th>\n",
       "    </tr>\n",
       "  </thead>\n",
       "  <tbody>\n",
       "    <tr>\n",
       "      <th>P00265242</th>\n",
       "      <td>1858</td>\n",
       "    </tr>\n",
       "    <tr>\n",
       "      <th>P00110742</th>\n",
       "      <td>1591</td>\n",
       "    </tr>\n",
       "    <tr>\n",
       "      <th>P00025442</th>\n",
       "      <td>1586</td>\n",
       "    </tr>\n",
       "    <tr>\n",
       "      <th>P00112142</th>\n",
       "      <td>1539</td>\n",
       "    </tr>\n",
       "    <tr>\n",
       "      <th>P00057642</th>\n",
       "      <td>1430</td>\n",
       "    </tr>\n",
       "    <tr>\n",
       "      <th>P00184942</th>\n",
       "      <td>1424</td>\n",
       "    </tr>\n",
       "    <tr>\n",
       "      <th>P00046742</th>\n",
       "      <td>1417</td>\n",
       "    </tr>\n",
       "    <tr>\n",
       "      <th>P00058042</th>\n",
       "      <td>1396</td>\n",
       "    </tr>\n",
       "    <tr>\n",
       "      <th>P00145042</th>\n",
       "      <td>1384</td>\n",
       "    </tr>\n",
       "    <tr>\n",
       "      <th>P00059442</th>\n",
       "      <td>1384</td>\n",
       "    </tr>\n",
       "  </tbody>\n",
       "</table>\n",
       "</div>"
      ],
      "text/plain": [
       "               0\n",
       "Product_ID      \n",
       "P00265242   1858\n",
       "P00110742   1591\n",
       "P00025442   1586\n",
       "P00112142   1539\n",
       "P00057642   1430\n",
       "P00184942   1424\n",
       "P00046742   1417\n",
       "P00058042   1396\n",
       "P00145042   1384\n",
       "P00059442   1384"
      ]
     },
     "execution_count": 33,
     "metadata": {},
     "output_type": "execute_result"
    }
   ],
   "source": [
    "top_10"
   ]
  },
  {
   "cell_type": "code",
   "execution_count": 34,
   "metadata": {},
   "outputs": [],
   "source": [
    "most_sell = top_10.index"
   ]
  },
  {
   "cell_type": "code",
   "execution_count": 35,
   "metadata": {},
   "outputs": [],
   "source": [
    "top10 = pd.DataFrame(dataset, columns=[\"Product_ID\",\"Age\",\"Gender\", 'Product_Category_1'])"
   ]
  },
  {
   "cell_type": "code",
   "execution_count": 36,
   "metadata": {},
   "outputs": [],
   "source": [
    "top10=top10[top10['Product_ID'].isin(most_sell)]"
   ]
  },
  {
   "cell_type": "code",
   "execution_count": 37,
   "metadata": {},
   "outputs": [
    {
     "data": {
      "image/png": "[encoded data removed]",
      "text/plain": [
       "<Figure size 720x432 with 1 Axes>"
      ]
     },
     "metadata": {},
     "output_type": "display_data"
    }
   ],
   "source": [
    "plt.pyplot.figure(figsize=(10,6)) \n",
    "seaborn.countplot(data=top10, x='Product_Category_1', \n",
    "                  hue='Product_ID') \n",
    "plt.pyplot.legend(bbox_to_anchor=(1.05, 1), loc=2, borderaxespad=0.)\n",
    "seaborn.despine()"
   ]
  },
  {
   "cell_type": "code",
   "execution_count": 38,
   "metadata": {},
   "outputs": [],
   "source": [
    "cat_1 = len(top10[top10['Product_Category_1'] == 1])/len(top10['Product_Category_1'])"
   ]
  },
  {
   "cell_type": "code",
   "execution_count": 39,
   "metadata": {},
   "outputs": [
    {
     "name": "stdout",
     "output_type": "stream",
     "text": [
      "El  0.6909854087547471 de los productos más vendidos pertence a la categoría 1\n"
     ]
    }
   ],
   "source": [
    "print('El ', cat_1, 'de los productos más vendidos pertence a la categoría 1')"
   ]
  },
  {
   "cell_type": "code",
   "execution_count": 40,
   "metadata": {},
   "outputs": [
    {
     "data": {
      "image/png": "[encoded data removed]",
      "text/plain": [
       "<Figure size 720x432 with 1 Axes>"
      ]
     },
     "metadata": {},
     "output_type": "display_data"
    }
   ],
   "source": [
    "plt.pyplot.figure(figsize=(10,6)) \n",
    "order = ['0-17', '18-25', '26-35', '36-45', '46-50', '51-55', '55+']\n",
    "seaborn.countplot(data=top10, x='Age', \n",
    "                  hue='Gender', order=order) \n",
    "seaborn.despine()"
   ]
  },
  {
   "cell_type": "code",
   "execution_count": 41,
   "metadata": {},
   "outputs": [
    {
     "data": {
      "image/png": "[encoded data removed]",
      "text/plain": [
       "<Figure size 720x432 with 1 Axes>"
      ]
     },
     "metadata": {},
     "output_type": "display_data"
    }
   ],
   "source": [
    "plt.pyplot.figure(figsize=(10,6)) \n",
    "order = ['0-17', '18-25', '26-35', '36-45', '46-50', '51-55', '55+']\n",
    "seaborn.countplot(data=top10, x='Age', \n",
    "                  hue='Product_ID', order=order) \n",
    "seaborn.despine()"
   ]
  },
  {
   "cell_type": "markdown",
   "metadata": {},
   "source": [
    "El Producto PO0265242 es el más consumido entre todos los rangos etarios, a excepción de 2 rangos: 0-17 y 36-45. En el primer caso, el producto más consumido consiste en el producto PO0145042, que por lidera el ránking de productos consumidos entre las edades 0-17 años. En el segundo caso, el producto más adquirido entre las personas que tienen 36-45 años es el bien PO0025442. "
   ]
  },
  {
   "cell_type": "code",
   "execution_count": 42,
   "metadata": {
    "scrolled": false
   },
   "outputs": [
    {
     "data": {
      "image/png": "[encoded data removed]",
      "text/plain": [
       "<Figure size 720x432 with 1 Axes>"
      ]
     },
     "metadata": {},
     "output_type": "display_data"
    }
   ],
   "source": [
    "plt.pyplot.figure(figsize=(10,6)) \n",
    "seaborn.countplot(data=top10, x='Gender', \n",
    "                  hue='Product_ID') \n",
    "seaborn.despine()"
   ]
  },
  {
   "cell_type": "markdown",
   "metadata": {},
   "source": [
    "Al analizar los productos más vendididos, distinguiendo el género, se observa que coincide tanto para hombre como para mujeres que el producto más adquirido es el PO0265242. Seguidamente, se observa que el producto que se posiciona en segundo lugar en el género femenino, es el menos adquirido por los masculinos; PO0058042."
   ]
  },
  {
   "cell_type": "code",
   "execution_count": 43,
   "metadata": {},
   "outputs": [
    {
     "data": {
      "text/html": [
       "<div>\n",
       "<style scoped>\n",
       "    .dataframe tbody tr th:only-of-type {\n",
       "        vertical-align: middle;\n",
       "    }\n",
       "\n",
       "    .dataframe tbody tr th {\n",
       "        vertical-align: top;\n",
       "    }\n",
       "\n",
       "    .dataframe thead tr th {\n",
       "        text-align: left;\n",
       "    }\n",
       "\n",
       "    .dataframe thead tr:last-of-type th {\n",
       "        text-align: right;\n",
       "    }\n",
       "</style>\n",
       "<table border=\"1\" class=\"dataframe\">\n",
       "  <thead>\n",
       "    <tr>\n",
       "      <th></th>\n",
       "      <th colspan=\"7\" halign=\"left\">Gender</th>\n",
       "      <th colspan=\"7\" halign=\"left\">Product_Category_1</th>\n",
       "    </tr>\n",
       "    <tr>\n",
       "      <th>Age</th>\n",
       "      <th>0-17</th>\n",
       "      <th>18-25</th>\n",
       "      <th>26-35</th>\n",
       "      <th>36-45</th>\n",
       "      <th>46-50</th>\n",
       "      <th>51-55</th>\n",
       "      <th>55+</th>\n",
       "      <th>0-17</th>\n",
       "      <th>18-25</th>\n",
       "      <th>26-35</th>\n",
       "      <th>36-45</th>\n",
       "      <th>46-50</th>\n",
       "      <th>51-55</th>\n",
       "      <th>55+</th>\n",
       "    </tr>\n",
       "    <tr>\n",
       "      <th>Product_ID</th>\n",
       "      <th></th>\n",
       "      <th></th>\n",
       "      <th></th>\n",
       "      <th></th>\n",
       "      <th></th>\n",
       "      <th></th>\n",
       "      <th></th>\n",
       "      <th></th>\n",
       "      <th></th>\n",
       "      <th></th>\n",
       "      <th></th>\n",
       "      <th></th>\n",
       "      <th></th>\n",
       "      <th></th>\n",
       "    </tr>\n",
       "  </thead>\n",
       "  <tbody>\n",
       "    <tr>\n",
       "      <th>P00025442</th>\n",
       "      <td>52</td>\n",
       "      <td>282</td>\n",
       "      <td>595</td>\n",
       "      <td>348</td>\n",
       "      <td>122</td>\n",
       "      <td>117</td>\n",
       "      <td>70</td>\n",
       "      <td>52</td>\n",
       "      <td>282</td>\n",
       "      <td>595</td>\n",
       "      <td>348</td>\n",
       "      <td>122</td>\n",
       "      <td>117</td>\n",
       "      <td>70</td>\n",
       "    </tr>\n",
       "    <tr>\n",
       "      <th>P00046742</th>\n",
       "      <td>36</td>\n",
       "      <td>293</td>\n",
       "      <td>544</td>\n",
       "      <td>264</td>\n",
       "      <td>126</td>\n",
       "      <td>98</td>\n",
       "      <td>56</td>\n",
       "      <td>36</td>\n",
       "      <td>293</td>\n",
       "      <td>544</td>\n",
       "      <td>264</td>\n",
       "      <td>126</td>\n",
       "      <td>98</td>\n",
       "      <td>56</td>\n",
       "    </tr>\n",
       "    <tr>\n",
       "      <th>P00057642</th>\n",
       "      <td>33</td>\n",
       "      <td>288</td>\n",
       "      <td>581</td>\n",
       "      <td>291</td>\n",
       "      <td>96</td>\n",
       "      <td>99</td>\n",
       "      <td>42</td>\n",
       "      <td>33</td>\n",
       "      <td>288</td>\n",
       "      <td>581</td>\n",
       "      <td>291</td>\n",
       "      <td>96</td>\n",
       "      <td>99</td>\n",
       "      <td>42</td>\n",
       "    </tr>\n",
       "    <tr>\n",
       "      <th>P00058042</th>\n",
       "      <td>26</td>\n",
       "      <td>250</td>\n",
       "      <td>584</td>\n",
       "      <td>277</td>\n",
       "      <td>111</td>\n",
       "      <td>88</td>\n",
       "      <td>60</td>\n",
       "      <td>26</td>\n",
       "      <td>250</td>\n",
       "      <td>584</td>\n",
       "      <td>277</td>\n",
       "      <td>111</td>\n",
       "      <td>88</td>\n",
       "      <td>60</td>\n",
       "    </tr>\n",
       "    <tr>\n",
       "      <th>P00059442</th>\n",
       "      <td>30</td>\n",
       "      <td>247</td>\n",
       "      <td>535</td>\n",
       "      <td>277</td>\n",
       "      <td>115</td>\n",
       "      <td>112</td>\n",
       "      <td>68</td>\n",
       "      <td>30</td>\n",
       "      <td>247</td>\n",
       "      <td>535</td>\n",
       "      <td>277</td>\n",
       "      <td>115</td>\n",
       "      <td>112</td>\n",
       "      <td>68</td>\n",
       "    </tr>\n",
       "    <tr>\n",
       "      <th>P00110742</th>\n",
       "      <td>46</td>\n",
       "      <td>323</td>\n",
       "      <td>627</td>\n",
       "      <td>317</td>\n",
       "      <td>104</td>\n",
       "      <td>117</td>\n",
       "      <td>57</td>\n",
       "      <td>46</td>\n",
       "      <td>323</td>\n",
       "      <td>627</td>\n",
       "      <td>317</td>\n",
       "      <td>104</td>\n",
       "      <td>117</td>\n",
       "      <td>57</td>\n",
       "    </tr>\n",
       "    <tr>\n",
       "      <th>P00112142</th>\n",
       "      <td>58</td>\n",
       "      <td>335</td>\n",
       "      <td>597</td>\n",
       "      <td>292</td>\n",
       "      <td>111</td>\n",
       "      <td>98</td>\n",
       "      <td>48</td>\n",
       "      <td>58</td>\n",
       "      <td>335</td>\n",
       "      <td>597</td>\n",
       "      <td>292</td>\n",
       "      <td>111</td>\n",
       "      <td>98</td>\n",
       "      <td>48</td>\n",
       "    </tr>\n",
       "    <tr>\n",
       "      <th>P00145042</th>\n",
       "      <td>63</td>\n",
       "      <td>286</td>\n",
       "      <td>520</td>\n",
       "      <td>264</td>\n",
       "      <td>106</td>\n",
       "      <td>99</td>\n",
       "      <td>46</td>\n",
       "      <td>63</td>\n",
       "      <td>286</td>\n",
       "      <td>520</td>\n",
       "      <td>264</td>\n",
       "      <td>106</td>\n",
       "      <td>99</td>\n",
       "      <td>46</td>\n",
       "    </tr>\n",
       "    <tr>\n",
       "      <th>P00184942</th>\n",
       "      <td>43</td>\n",
       "      <td>274</td>\n",
       "      <td>570</td>\n",
       "      <td>266</td>\n",
       "      <td>118</td>\n",
       "      <td>83</td>\n",
       "      <td>70</td>\n",
       "      <td>43</td>\n",
       "      <td>274</td>\n",
       "      <td>570</td>\n",
       "      <td>266</td>\n",
       "      <td>118</td>\n",
       "      <td>83</td>\n",
       "      <td>70</td>\n",
       "    </tr>\n",
       "    <tr>\n",
       "      <th>P00265242</th>\n",
       "      <td>41</td>\n",
       "      <td>388</td>\n",
       "      <td>732</td>\n",
       "      <td>317</td>\n",
       "      <td>136</td>\n",
       "      <td>140</td>\n",
       "      <td>104</td>\n",
       "      <td>41</td>\n",
       "      <td>388</td>\n",
       "      <td>732</td>\n",
       "      <td>317</td>\n",
       "      <td>136</td>\n",
       "      <td>140</td>\n",
       "      <td>104</td>\n",
       "    </tr>\n",
       "  </tbody>\n",
       "</table>\n",
       "</div>"
      ],
      "text/plain": [
       "           Gender                                    Product_Category_1        \\\n",
       "Age          0-17 18-25 26-35 36-45 46-50 51-55  55+               0-17 18-25   \n",
       "Product_ID                                                                      \n",
       "P00025442      52   282   595   348   122   117   70                 52   282   \n",
       "P00046742      36   293   544   264   126    98   56                 36   293   \n",
       "P00057642      33   288   581   291    96    99   42                 33   288   \n",
       "P00058042      26   250   584   277   111    88   60                 26   250   \n",
       "P00059442      30   247   535   277   115   112   68                 30   247   \n",
       "P00110742      46   323   627   317   104   117   57                 46   323   \n",
       "P00112142      58   335   597   292   111    98   48                 58   335   \n",
       "P00145042      63   286   520   264   106    99   46                 63   286   \n",
       "P00184942      43   274   570   266   118    83   70                 43   274   \n",
       "P00265242      41   388   732   317   136   140  104                 41   388   \n",
       "\n",
       "                                         \n",
       "Age        26-35 36-45 46-50 51-55  55+  \n",
       "Product_ID                               \n",
       "P00025442    595   348   122   117   70  \n",
       "P00046742    544   264   126    98   56  \n",
       "P00057642    581   291    96    99   42  \n",
       "P00058042    584   277   111    88   60  \n",
       "P00059442    535   277   115   112   68  \n",
       "P00110742    627   317   104   117   57  \n",
       "P00112142    597   292   111    98   48  \n",
       "P00145042    520   264   106    99   46  \n",
       "P00184942    570   266   118    83   70  \n",
       "P00265242    732   317   136   140  104  "
      ]
     },
     "execution_count": 43,
     "metadata": {},
     "output_type": "execute_result"
    }
   ],
   "source": [
    "top10=pd.pivot_table(top10, index='Product_ID', columns='Age', aggfunc='count')\n",
    "top10"
   ]
  },
  {
   "cell_type": "markdown",
   "metadata": {},
   "source": [
    "**5. La categoría de productos menos vendidos corresponde a productos muy costosos? Cuáles categorías de productos son más consumidas por edad? y por género?**"
   ]
  },
  {
   "cell_type": "code",
   "execution_count": 44,
   "metadata": {},
   "outputs": [],
   "source": [
    "prod_less_sold = pd.DataFrame(dataset.groupby('Product_ID').size())\n",
    "bottom_10 = prod_sold.sort_values(0, ascending=True)[0:141]"
   ]
  },
  {
   "cell_type": "code",
   "execution_count": 45,
   "metadata": {},
   "outputs": [
    {
     "name": "stdout",
     "output_type": "stream",
     "text": [
      "Los productos menos vendidos son los siguientes: \n"
     ]
    },
    {
     "data": {
      "text/html": [
       "<div>\n",
       "<style scoped>\n",
       "    .dataframe tbody tr th:only-of-type {\n",
       "        vertical-align: middle;\n",
       "    }\n",
       "\n",
       "    .dataframe tbody tr th {\n",
       "        vertical-align: top;\n",
       "    }\n",
       "\n",
       "    .dataframe thead th {\n",
       "        text-align: right;\n",
       "    }\n",
       "</style>\n",
       "<table border=\"1\" class=\"dataframe\">\n",
       "  <thead>\n",
       "    <tr style=\"text-align: right;\">\n",
       "      <th></th>\n",
       "      <th>0</th>\n",
       "    </tr>\n",
       "    <tr>\n",
       "      <th>Product_ID</th>\n",
       "      <th></th>\n",
       "    </tr>\n",
       "  </thead>\n",
       "  <tbody>\n",
       "    <tr>\n",
       "      <th>P00056542</th>\n",
       "      <td>1</td>\n",
       "    </tr>\n",
       "    <tr>\n",
       "      <th>P00013442</th>\n",
       "      <td>1</td>\n",
       "    </tr>\n",
       "    <tr>\n",
       "      <th>P00013542</th>\n",
       "      <td>1</td>\n",
       "    </tr>\n",
       "    <tr>\n",
       "      <th>P00013842</th>\n",
       "      <td>1</td>\n",
       "    </tr>\n",
       "    <tr>\n",
       "      <th>P00206542</th>\n",
       "      <td>1</td>\n",
       "    </tr>\n",
       "  </tbody>\n",
       "</table>\n",
       "</div>"
      ],
      "text/plain": [
       "            0\n",
       "Product_ID   \n",
       "P00056542   1\n",
       "P00013442   1\n",
       "P00013542   1\n",
       "P00013842   1\n",
       "P00206542   1"
      ]
     },
     "execution_count": 45,
     "metadata": {},
     "output_type": "execute_result"
    }
   ],
   "source": [
    "print('Los productos menos vendidos son los siguientes: ')\n",
    "bottom_10[:5]"
   ]
  },
  {
   "cell_type": "code",
   "execution_count": 46,
   "metadata": {},
   "outputs": [
    {
     "data": {
      "text/plain": [
       "Index(['P00056542', 'P00013442', 'P00013542', 'P00013842', 'P00206542',\n",
       "       'P00062442', 'P00062342', 'P00275042', 'P00314742', 'P00142542',\n",
       "       ...\n",
       "       'P00204042', 'P00260742', 'P00308042', 'P00135942', 'P00306542',\n",
       "       'P00073342', 'P00126742', 'P00306942', 'P00338242', 'P00203942'],\n",
       "      dtype='object', name='Product_ID', length=141)"
      ]
     },
     "execution_count": 46,
     "metadata": {},
     "output_type": "execute_result"
    }
   ],
   "source": [
    "less_sell = bottom_10.index\n",
    "less_sell"
   ]
  },
  {
   "cell_type": "code",
   "execution_count": 47,
   "metadata": {},
   "outputs": [],
   "source": [
    "bottom10 = pd.DataFrame(dataset, columns=[\"Product_ID\",\"Age\",\"Gender\",'Purchase', 'Product_Category_1'])"
   ]
  },
  {
   "cell_type": "code",
   "execution_count": 48,
   "metadata": {},
   "outputs": [],
   "source": [
    "bottom10=bottom10[bottom10['Product_ID'].isin(less_sell)]"
   ]
  },
  {
   "cell_type": "code",
   "execution_count": 49,
   "metadata": {},
   "outputs": [
    {
     "data": {
      "text/html": [
       "<div>\n",
       "<style scoped>\n",
       "    .dataframe tbody tr th:only-of-type {\n",
       "        vertical-align: middle;\n",
       "    }\n",
       "\n",
       "    .dataframe tbody tr th {\n",
       "        vertical-align: top;\n",
       "    }\n",
       "\n",
       "    .dataframe thead th {\n",
       "        text-align: right;\n",
       "    }\n",
       "</style>\n",
       "<table border=\"1\" class=\"dataframe\">\n",
       "  <thead>\n",
       "    <tr style=\"text-align: right;\">\n",
       "      <th></th>\n",
       "      <th>Product_ID</th>\n",
       "      <th>Age</th>\n",
       "      <th>Gender</th>\n",
       "      <th>Purchase</th>\n",
       "      <th>Product_Category_1</th>\n",
       "    </tr>\n",
       "  </thead>\n",
       "  <tbody>\n",
       "    <tr>\n",
       "      <th>173592</th>\n",
       "      <td>P00074542</td>\n",
       "      <td>26-35</td>\n",
       "      <td>M</td>\n",
       "      <td>203.23</td>\n",
       "      <td>7</td>\n",
       "    </tr>\n",
       "    <tr>\n",
       "      <th>424219</th>\n",
       "      <td>P00341542</td>\n",
       "      <td>55+</td>\n",
       "      <td>M</td>\n",
       "      <td>202.91</td>\n",
       "      <td>6</td>\n",
       "    </tr>\n",
       "    <tr>\n",
       "      <th>137562</th>\n",
       "      <td>P00308042</td>\n",
       "      <td>51-55</td>\n",
       "      <td>F</td>\n",
       "      <td>192.06</td>\n",
       "      <td>10</td>\n",
       "    </tr>\n",
       "    <tr>\n",
       "      <th>514546</th>\n",
       "      <td>P00315142</td>\n",
       "      <td>26-35</td>\n",
       "      <td>M</td>\n",
       "      <td>184.68</td>\n",
       "      <td>10</td>\n",
       "    </tr>\n",
       "    <tr>\n",
       "      <th>511641</th>\n",
       "      <td>P00075042</td>\n",
       "      <td>36-45</td>\n",
       "      <td>M</td>\n",
       "      <td>184.56</td>\n",
       "      <td>9</td>\n",
       "    </tr>\n",
       "    <tr>\n",
       "      <th>97045</th>\n",
       "      <td>P00135942</td>\n",
       "      <td>26-35</td>\n",
       "      <td>M</td>\n",
       "      <td>169.54</td>\n",
       "      <td>7</td>\n",
       "    </tr>\n",
       "    <tr>\n",
       "      <th>518979</th>\n",
       "      <td>P00038842</td>\n",
       "      <td>51-55</td>\n",
       "      <td>F</td>\n",
       "      <td>168.95</td>\n",
       "      <td>7</td>\n",
       "    </tr>\n",
       "    <tr>\n",
       "      <th>402677</th>\n",
       "      <td>P00292142</td>\n",
       "      <td>36-45</td>\n",
       "      <td>F</td>\n",
       "      <td>166.09</td>\n",
       "      <td>7</td>\n",
       "    </tr>\n",
       "    <tr>\n",
       "      <th>528719</th>\n",
       "      <td>P00295642</td>\n",
       "      <td>26-35</td>\n",
       "      <td>M</td>\n",
       "      <td>159.66</td>\n",
       "      <td>2</td>\n",
       "    </tr>\n",
       "    <tr>\n",
       "      <th>303737</th>\n",
       "      <td>P00166442</td>\n",
       "      <td>36-45</td>\n",
       "      <td>M</td>\n",
       "      <td>159.66</td>\n",
       "      <td>6</td>\n",
       "    </tr>\n",
       "  </tbody>\n",
       "</table>\n",
       "</div>"
      ],
      "text/plain": [
       "       Product_ID    Age Gender  Purchase  Product_Category_1\n",
       "173592  P00074542  26-35      M    203.23                   7\n",
       "424219  P00341542    55+      M    202.91                   6\n",
       "137562  P00308042  51-55      F    192.06                  10\n",
       "514546  P00315142  26-35      M    184.68                  10\n",
       "511641  P00075042  36-45      M    184.56                   9\n",
       "97045   P00135942  26-35      M    169.54                   7\n",
       "518979  P00038842  51-55      F    168.95                   7\n",
       "402677  P00292142  36-45      F    166.09                   7\n",
       "528719  P00295642  26-35      M    159.66                   2\n",
       "303737  P00166442  36-45      M    159.66                   6"
      ]
     },
     "execution_count": 49,
     "metadata": {},
     "output_type": "execute_result"
    }
   ],
   "source": [
    "bottom10.sort_values(by='Purchase', ascending=False)[0:10]"
   ]
  },
  {
   "cell_type": "markdown",
   "metadata": {},
   "source": [
    "Inicialmente consideramos los productos cuyo valor se ubica por encima del 75% del total de productos vendidos. Es decir, solo se consideran aquellos bienes que superan el precio que contiene al 75% del total de observaciones."
   ]
  },
  {
   "cell_type": "code",
   "execution_count": 72,
   "metadata": {},
   "outputs": [
    {
     "name": "stdout",
     "output_type": "stream",
     "text": [
      "Del total de productos menos consumidos, solo  17 se encuentran fuera del 75% de las obervaciones\n"
     ]
    }
   ],
   "source": [
    "bottom10_exp = bottom10[bottom10['Purchase'] > q3]\n",
    "print('Del total de productos menos consumidos, solo ', len(bottom10_exp), 'se encuentran fuera del 75% de las obervaciones')"
   ]
  },
  {
   "cell_type": "markdown",
   "metadata": {},
   "source": [
    "Es decir, de los 141 productos menos vendidos, tan solo 17 superan el tercer rango intercuartil que representa a productos que superan los U$S 120 valor de compra. En otras palabras, solo 17 productos superan el precio promedio del 75% de los productos en la muestra."
   ]
  },
  {
   "cell_type": "code",
   "execution_count": 51,
   "metadata": {},
   "outputs": [
    {
     "data": {
      "image/png": "[encoded data removed]",
      "text/plain": [
       "<Figure size 432x288 with 1 Axes>"
      ]
     },
     "metadata": {},
     "output_type": "display_data"
    }
   ],
   "source": [
    "seaborn.set_style('whitegrid')\n",
    "pid_count_1 = bottom10['Product_Category_1'].value_counts()\n",
    "ax = seaborn.barplot(x=pid_count_1.index, y=pid_count_1.values, order = bottom10['Product_Category_1'].value_counts().index).set_title('Categoría Productos menos vendidos')\n",
    "seaborn.despine()"
   ]
  },
  {
   "cell_type": "markdown",
   "metadata": {},
   "source": [
    "Al considerar la categoría de los productos menos vendidos, se observa que la categoría 8 aglutina a mas de 60 de los 141 productos menos vendidos. Le sigue en orden de importancia la categoría 5 que contiene a mas de 30 de los 141 productos menos vendidos."
   ]
  },
  {
   "cell_type": "code",
   "execution_count": 52,
   "metadata": {},
   "outputs": [
    {
     "data": {
      "text/plain": [
       "0.7092198581560284"
      ]
     },
     "execution_count": 52,
     "metadata": {},
     "output_type": "execute_result"
    }
   ],
   "source": [
    "less_buy = (len(bottom10[bottom10['Product_Category_1'] == 8]) + len(bottom10[bottom10['Product_Category_1'] == 5])) / len(bottom10['Product_Category_1'])\n",
    "less_buy"
   ]
  },
  {
   "cell_type": "markdown",
   "metadata": {},
   "source": [
    "El 71% de los productos menos vendidos corresponden a productos de la categoría 8 y 5.\n"
   ]
  },
  {
   "cell_type": "code",
   "execution_count": 53,
   "metadata": {
    "scrolled": false
   },
   "outputs": [
    {
     "data": {
      "image/png": "[encoded data removed]",
      "text/plain": [
       "<Figure size 1080x432 with 1 Axes>"
      ]
     },
     "metadata": {},
     "output_type": "display_data"
    }
   ],
   "source": [
    "seaborn.set_style('whitegrid')\n",
    "plt.pyplot.figure(figsize=(15,6))\n",
    "seaborn.barplot(x='Gender', y='Purchase', data=bottom10_exp,\n",
    "               hue='Product_Category_1')\n",
    "plt.pyplot.legend(bbox_to_anchor=(1.05, 1), loc=2, borderaxespad=0.)\n",
    "seaborn.despine()"
   ]
  },
  {
   "cell_type": "markdown",
   "metadata": {},
   "source": [
    "Del total de productos menos vendidos y cuyo precio supera al precio que contiene al 75% del total de la muestra, se observa que ninguno de los 17 pertenece a la categoría 8 o 5. Más aún, se observa que de los productos más caros y menos vendidos, solo la categoría 1, 7 y 15 es compartida por personas de ambos géneros; mientras que el resto de las categorías representan a productos menos adquiridos por el género masculino."
   ]
  },
  {
   "cell_type": "code",
   "execution_count": 54,
   "metadata": {},
   "outputs": [
    {
     "data": {
      "image/png": "[encoded data removed]",
      "text/plain": [
       "<Figure size 1080x432 with 1 Axes>"
      ]
     },
     "metadata": {},
     "output_type": "display_data"
    }
   ],
   "source": [
    "plt.pyplot.figure(figsize=(15,6))\n",
    "seaborn.barplot(x='Age', y='Purchase', data=bottom10_exp,\n",
    "               hue='Product_Category_1', order=order)\n",
    "plt.pyplot.legend(bbox_to_anchor=(1.05, 1), loc=2, borderaxespad=0.)\n",
    "seaborn.despine()"
   ]
  },
  {
   "cell_type": "markdown",
   "metadata": {},
   "source": [
    "Al analizar el rango etario de los productos menos adquiridos y más costosos, se observa una concentración entre los rangos 26-35 y 36-45, que a su vez consisten en los rangos etarios que consumen productos más costosos; tal como se señaló en el punto 3. A su vez, se observa que mismos rangos etarios comparten la categoría de productos 1 y 7 como las menos consumidas; consitente con lo observado cuando se analizo la distribución por género de la categoría de productos menos consumidos."
   ]
  },
  {
   "cell_type": "markdown",
   "metadata": {},
   "source": [
    "Adicionalmente, se observa que la categoría de productos 7 atraviesa a gran parte de los consumidores de variada edad; con la excepción de aquellos consumidores mayores a los 55 años. A su vez, la categoría 15 al igual que la categoría 9 solo figuran una sola vez en los siguientes rangos etarios: 46-50 y 36-45, respectivamente."
   ]
  },
  {
   "cell_type": "markdown",
   "metadata": {},
   "source": [
    "*A continuación, se analiza el caso de los productos menos adquiridos y cuyos precios se ubican por debajo del 25% de los precios del total de las observaciones. En otras palabras, se estudian los productos menos adquiridos y más baratos.*"
   ]
  },
  {
   "cell_type": "code",
   "execution_count": 74,
   "metadata": {},
   "outputs": [
    {
     "name": "stdout",
     "output_type": "stream",
     "text": [
      "Del total de productos menos consumidos, solo  67 se encuentran fuera del 25% inferior de las obervaciones\n"
     ]
    }
   ],
   "source": [
    "bottom10_chp = bottom10[bottom10['Purchase'] < q1]\n",
    "print('Del total de productos menos consumidos, solo ', len(bottom10_chp), 'se encuentran fuera del 25% inferior de las obervaciones')"
   ]
  },
  {
   "cell_type": "code",
   "execution_count": 70,
   "metadata": {},
   "outputs": [
    {
     "data": {
      "text/html": [
       "<div>\n",
       "<style scoped>\n",
       "    .dataframe tbody tr th:only-of-type {\n",
       "        vertical-align: middle;\n",
       "    }\n",
       "\n",
       "    .dataframe tbody tr th {\n",
       "        vertical-align: top;\n",
       "    }\n",
       "\n",
       "    .dataframe thead tr th {\n",
       "        text-align: left;\n",
       "    }\n",
       "\n",
       "    .dataframe thead tr:last-of-type th {\n",
       "        text-align: right;\n",
       "    }\n",
       "</style>\n",
       "<table border=\"1\" class=\"dataframe\">\n",
       "  <thead>\n",
       "    <tr>\n",
       "      <th></th>\n",
       "      <th colspan=\"6\" halign=\"left\">Product_Category_1</th>\n",
       "      <th colspan=\"6\" halign=\"left\">Product_ID</th>\n",
       "      <th colspan=\"6\" halign=\"left\">Purchase</th>\n",
       "    </tr>\n",
       "    <tr>\n",
       "      <th>Age</th>\n",
       "      <th>18-25</th>\n",
       "      <th>26-35</th>\n",
       "      <th>36-45</th>\n",
       "      <th>46-50</th>\n",
       "      <th>51-55</th>\n",
       "      <th>55+</th>\n",
       "      <th>18-25</th>\n",
       "      <th>26-35</th>\n",
       "      <th>36-45</th>\n",
       "      <th>46-50</th>\n",
       "      <th>51-55</th>\n",
       "      <th>55+</th>\n",
       "      <th>18-25</th>\n",
       "      <th>26-35</th>\n",
       "      <th>36-45</th>\n",
       "      <th>46-50</th>\n",
       "      <th>51-55</th>\n",
       "      <th>55+</th>\n",
       "    </tr>\n",
       "    <tr>\n",
       "      <th>Gender</th>\n",
       "      <th></th>\n",
       "      <th></th>\n",
       "      <th></th>\n",
       "      <th></th>\n",
       "      <th></th>\n",
       "      <th></th>\n",
       "      <th></th>\n",
       "      <th></th>\n",
       "      <th></th>\n",
       "      <th></th>\n",
       "      <th></th>\n",
       "      <th></th>\n",
       "      <th></th>\n",
       "      <th></th>\n",
       "      <th></th>\n",
       "      <th></th>\n",
       "      <th></th>\n",
       "      <th></th>\n",
       "    </tr>\n",
       "  </thead>\n",
       "  <tbody>\n",
       "    <tr>\n",
       "      <th>F</th>\n",
       "      <td>5.0</td>\n",
       "      <td>1.0</td>\n",
       "      <td>2.0</td>\n",
       "      <td>NaN</td>\n",
       "      <td>NaN</td>\n",
       "      <td>2.0</td>\n",
       "      <td>5.0</td>\n",
       "      <td>1.0</td>\n",
       "      <td>2.0</td>\n",
       "      <td>NaN</td>\n",
       "      <td>NaN</td>\n",
       "      <td>2.0</td>\n",
       "      <td>5.0</td>\n",
       "      <td>1.0</td>\n",
       "      <td>2.0</td>\n",
       "      <td>NaN</td>\n",
       "      <td>NaN</td>\n",
       "      <td>2.0</td>\n",
       "    </tr>\n",
       "    <tr>\n",
       "      <th>M</th>\n",
       "      <td>23.0</td>\n",
       "      <td>14.0</td>\n",
       "      <td>7.0</td>\n",
       "      <td>6.0</td>\n",
       "      <td>2.0</td>\n",
       "      <td>5.0</td>\n",
       "      <td>23.0</td>\n",
       "      <td>14.0</td>\n",
       "      <td>7.0</td>\n",
       "      <td>6.0</td>\n",
       "      <td>2.0</td>\n",
       "      <td>5.0</td>\n",
       "      <td>23.0</td>\n",
       "      <td>14.0</td>\n",
       "      <td>7.0</td>\n",
       "      <td>6.0</td>\n",
       "      <td>2.0</td>\n",
       "      <td>5.0</td>\n",
       "    </tr>\n",
       "  </tbody>\n",
       "</table>\n",
       "</div>"
      ],
      "text/plain": [
       "       Product_Category_1                              Product_ID              \\\n",
       "Age                 18-25 26-35 36-45 46-50 51-55  55+      18-25 26-35 36-45   \n",
       "Gender                                                                          \n",
       "F                     5.0   1.0   2.0   NaN   NaN  2.0        5.0   1.0   2.0   \n",
       "M                    23.0  14.0   7.0   6.0   2.0  5.0       23.0  14.0   7.0   \n",
       "\n",
       "                        Purchase                               \n",
       "Age    46-50 51-55  55+    18-25 26-35 36-45 46-50 51-55  55+  \n",
       "Gender                                                         \n",
       "F        NaN   NaN  2.0      5.0   1.0   2.0   NaN   NaN  2.0  \n",
       "M        6.0   2.0  5.0     23.0  14.0   7.0   6.0   2.0  5.0  "
      ]
     },
     "execution_count": 70,
     "metadata": {},
     "output_type": "execute_result"
    }
   ],
   "source": [
    "bottom10_chp = pd.pivot_table(bottom10_chp, index='Gender', columns='Age', aggfunc='count')\n",
    "bottom10_chp"
   ]
  },
  {
   "cell_type": "markdown",
   "metadata": {},
   "source": [
    "En línea con lo observado previamente, los productos menos consumidos y más económicos corresponden a consumidores entre 18 y 25 años y masculinos. "
   ]
  },
  {
   "cell_type": "code",
   "execution_count": 75,
   "metadata": {},
   "outputs": [
    {
     "data": {
      "text/plain": [
       "0.5957446808510638"
      ]
     },
     "execution_count": 75,
     "metadata": {},
     "output_type": "execute_result"
    }
   ],
   "source": [
    "bot = len(bottom10_chp+bottom10_exp)/len(bottom10)\n",
    "bot"
   ]
  },
  {
   "cell_type": "markdown",
   "metadata": {},
   "source": [
    "El precio del 60% de los productos menos consumidos se encuentran fuera del 50% de las observaciones que están alrededor de la mediana."
   ]
  },
  {
   "cell_type": "markdown",
   "metadata": {},
   "source": [
    "**6. Los usuarios que más compran (usuarios con más de 200 órdenes) poseen características en común? Cuáles?**"
   ]
  },
  {
   "cell_type": "code",
   "execution_count": 80,
   "metadata": {},
   "outputs": [],
   "source": [
    "top_usrs = pd.DataFrame(dataset.groupby('User_ID').size())\n",
    "top_usrs = top_usrs[0][top_usrs[0]>200]\n"
   ]
  },
  {
   "cell_type": "code",
   "execution_count": 81,
   "metadata": {},
   "outputs": [],
   "source": [
    "top_usrs=list(top_usrs.index)\n"
   ]
  },
  {
   "cell_type": "code",
   "execution_count": 82,
   "metadata": {},
   "outputs": [],
   "source": [
    "indices=[]\n",
    "for i in range(0,len(top_usrs)):\n",
    "    indices.append(list(dataset[\"User_ID\"]).index(top_usrs[i]))"
   ]
  },
  {
   "cell_type": "code",
   "execution_count": 83,
   "metadata": {},
   "outputs": [],
   "source": [
    "dataset_usrs=dataset.iloc[indices]"
   ]
  },
  {
   "cell_type": "code",
   "execution_count": 86,
   "metadata": {
    "scrolled": true
   },
   "outputs": [
    {
     "data": {
      "image/png": "[encoded data removed]",
      "text/plain": [
       "<Figure size 432x288 with 1 Axes>"
      ]
     },
     "metadata": {},
     "output_type": "display_data"
    }
   ],
   "source": [
    "seaborn.countplot(x=\"Age\",data=dataset_usrs,order = [\"0-17\",\"18-25\",\"26-35\",\"36-45\",\"46-50\",\"51-55\",\"55+\"],hue=\"Gender\")\n",
    "plt.pyplot.title(\"Mayores compradores por edad y género\")\n",
    "seaborn.despine()"
   ]
  },
  {
   "cell_type": "markdown",
   "metadata": {},
   "source": [
    "La gran mayoría de los usuarios que realizaron más de 200 compras son hombres, casi triplicando el número de mujeres. A su vez, más del 40% de los grandes usuarios se encuentran entre los 26 y 35 años de edad, seguido por aquellos usuarios entre 18 y 25 años y 36 y 45 años, cada uno con un 20% del total. Es decir que entre los 18 y 45 años se encuentra el 80% de todos los usuarios que hicieron más de 200 compras.Viendo la cantidad de estos usuarios por edad y género, se observa que las proporciones entre hombres y mujeres se mantienen estables a lo largo de los distintos rangos etarios."
   ]
  },
  {
   "cell_type": "code",
   "execution_count": 89,
   "metadata": {},
   "outputs": [
    {
     "data": {
      "image/png": "[encoded data removed]",
      "text/plain": [
       "<Figure size 432x288 with 1 Axes>"
      ]
     },
     "metadata": {},
     "output_type": "display_data"
    }
   ],
   "source": [
    "seaborn.countplot(x=\"Marital_Status\",data=dataset_usrs)\n",
    "plt.pyplot.title(\"Mayores compradores por estado civil\")\n",
    "plt.pyplot.xticks([0,1],[\"Soltero\",\"Casado\"])\n",
    "seaborn.despine()"
   ]
  },
  {
   "cell_type": "code",
   "execution_count": 92,
   "metadata": {},
   "outputs": [
    {
     "data": {
      "image/png": "[encoded data removed]",
      "text/plain": [
       "<Figure size 432x288 with 1 Axes>"
      ]
     },
     "metadata": {},
     "output_type": "display_data"
    }
   ],
   "source": [
    "seaborn.countplot(x=\"Age\",data=dataset_usrs,order = [\"0-17\",\"18-25\",\"26-35\",\"36-45\",\"46-50\",\"51-55\",\"55+\"],hue=\"Marital_Status\")\n",
    "plt.pyplot.title(\"Mayores compradores por edad y estado civil\")\n",
    "seaborn.despine()"
   ]
  },
  {
   "cell_type": "markdown",
   "metadata": {},
   "source": [
    "Analizando el estado marital de estos usuarios, se observa que aproximadamente el 60% de estos son solteros mientras que los restantes se encuentran casados, aunque esta relación varía notablemente a lo largo de los años. Hasta los 45 años la proporción de solteros es mayor a los casados, mientras que pasada esa edad la proporción de estos últimos supera a la de los primeros con amplitud. De esta gráfico, se puede observar también que el grupo que más usuarios concentra es aquél que contiene solteros entre 26 y 35 años, y que acumula aproximadamente el 28% del total."
   ]
  },
  {
   "cell_type": "code",
   "execution_count": 94,
   "metadata": {
    "scrolled": true
   },
   "outputs": [
    {
     "data": {
      "image/png": "[encoded data removed]",
      "text/plain": [
       "<Figure size 432x288 with 1 Axes>"
      ]
     },
     "metadata": {},
     "output_type": "display_data"
    }
   ],
   "source": [
    "seaborn.countplot(x=\"Occupation\",data=dataset_usrs)\n",
    "plt.pyplot.title(\"Mayores compradores por ocupación\")\n",
    "seaborn.despine()"
   ]
  },
  {
   "cell_type": "markdown",
   "metadata": {},
   "source": [
    "En cuanto a la ocupación de los grandes usuarios, también se distinguen unas pocas actividades que concentran una gran proporción del total, estas son la ocupación 0, 4 y 7, que en total contemplan más del 35% del total de usuarios."
   ]
  },
  {
   "cell_type": "code",
   "execution_count": 95,
   "metadata": {
    "scrolled": true
   },
   "outputs": [
    {
     "data": {
      "text/plain": [
       "<matplotlib.legend.Legend at 0x1600df153c8>"
      ]
     },
     "execution_count": 95,
     "metadata": {},
     "output_type": "execute_result"
    },
    {
     "data": {
      "image/png": "[encoded data removed]",
      "text/plain": [
       "<Figure size 432x288 with 1 Axes>"
      ]
     },
     "metadata": {},
     "output_type": "display_data"
    }
   ],
   "source": [
    "seaborn.countplot(x=\"City_Category\",data=dataset_usrs,hue=\"Stay_In_Current_City_Years\",hue_order=[\"0\",\"1\",\"2\",\"3\",\"4+\"],order=[\"A\",\"B\",\"C\"])\n",
    "seaborn.despine()\n",
    "plt.pyplot.title(\"Mayores compradores por tipo de ciudad \\n y estadía en su ciudad actual\")\n",
    "plt.pyplot.legend(loc=1)"
   ]
  },
  {
   "cell_type": "markdown",
   "metadata": {},
   "source": [
    "En cuanto a la ciudad y tiempo de estadía en esta, el recuento muestra que la gran mayoría de los compradores provienen de las ciudades de tipo B, y dentro de esta sobresale el grupo de personas que ha estado solamente un año en esta ciudad y representa más del 20% del total de grandes usuarios. Este mismo grupo de personas es el más numeroso también entre los grandes usuarios de las ciudades de tipo A. Por último, la proporción de usuarios provenientes de ciudades tipo C es casi nula."
   ]
  },
  {
   "cell_type": "markdown",
   "metadata": {},
   "source": [
    "**7. Analizar la distribución de ventas por edad, género y estado civil. Graficar.**"
   ]
  },
  {
   "cell_type": "code",
   "execution_count": 70,
   "metadata": {},
   "outputs": [],
   "source": [
    "dataset_1 = ['Age', 'Gender', 'Marital_Status', 'Purchase']\n",
    "dataset_2 = pd.DataFrame(dataset[dataset_1])"
   ]
  },
  {
   "cell_type": "markdown",
   "metadata": {},
   "source": [
    "*Distribución de las ventas por edad*"
   ]
  },
  {
   "cell_type": "code",
   "execution_count": 160,
   "metadata": {},
   "outputs": [],
   "source": [
    "dataset_age = dataset_2[['Age', 'Gender', 'Purchase']]"
   ]
  },
  {
   "cell_type": "code",
   "execution_count": 161,
   "metadata": {},
   "outputs": [
    {
     "data": {
      "image/png": "[encoded data removed]",
      "text/plain": [
       "<Figure size 1080x432 with 1 Axes>"
      ]
     },
     "metadata": {
      "needs_background": "light"
     },
     "output_type": "display_data"
    }
   ],
   "source": [
    "plt.pyplot.figure(figsize=(15,6))\n",
    "seaborn.boxplot(data=dataset_age,\n",
    "                x='Age', y='Purchase',\n",
    "                hue='Gender', order=order)\n",
    "plt.pyplot.legend(bbox_to_anchor=(1.05, 1), loc=2, borderaxespad=0.)\n",
    "seaborn.despine()"
   ]
  },
  {
   "cell_type": "markdown",
   "metadata": {},
   "source": [
    "Del análisis de la distribución de las ventas por edad y por sexo, surge que la mediana de compra de los hombres siempre se ubica por encima (o en igual posición) que las mujeres, independientemente el rango etario considerado. \n",
    "A su vez, el 3° rango intercuartílico de los hombres (que acumula el 75% de las observaciones) siempre se ubica por encima de las mujeres, mientras que el primer rango intercuartílico de las mujeres siempres se ubica por debajo en relación al de los hombres. \n",
    "Lo señalado anteriormente, permite sugerir que los hombres presentan una mayor prediposición en adquirir productos más costosos frente a las mujeres."
   ]
  },
  {
   "cell_type": "code",
   "execution_count": 323,
   "metadata": {},
   "outputs": [
    {
     "data": {
      "text/plain": [
       "<matplotlib.legend.Legend at 0x16461f56eb8>"
      ]
     },
     "execution_count": 323,
     "metadata": {},
     "output_type": "execute_result"
    },
    {
     "data": {
      "image/png": "[encoded data removed]",
      "text/plain": [
       "<Figure size 720x432 with 1 Axes>"
      ]
     },
     "metadata": {
      "needs_background": "light"
     },
     "output_type": "display_data"
    }
   ],
   "source": [
    "plt.pyplot.figure(figsize=(10,6))\n",
    "seaborn.distplot(\n",
    "    dataset[dataset_age['Age'] == '0-17']['Purchase'], \n",
    "                label='0-17')\n",
    "seaborn.distplot(\n",
    "    dataset[dataset_age['Age'] == '18-25']['Purchase'], \n",
    "                label='18-25')\n",
    "seaborn.distplot(\n",
    "    dataset[dataset_age['Age'] == '26-35']['Purchase'], \n",
    "                label='26-35')\n",
    "seaborn.distplot(\n",
    "    dataset[dataset_age['Age'] == '36-45']['Purchase'], \n",
    "                label='36-45')\n",
    "seaborn.distplot(\n",
    "    dataset[dataset_age['Age'] == '46-50']['Purchase'], \n",
    "                label='46-50')\n",
    "seaborn.distplot(\n",
    "    dataset[dataset_age['Age'] == '51-55']['Purchase'], \n",
    "                label='51-55')\n",
    "seaborn.distplot(\n",
    "    dataset[dataset_age['Age'] == '55+']['Purchase'], \n",
    "                label='55+')\n",
    "seaborn.despine()\n",
    "plt.pyplot.title(\"Valor de las Compras\")\n",
    "plt.pyplot.xlim(0,None)\n",
    "plt.pyplot.legend()"
   ]
  },
  {
   "cell_type": "markdown",
   "metadata": {},
   "source": [
    "*Distribución de las ventas por Estado Civil*"
   ]
  },
  {
   "cell_type": "code",
   "execution_count": 324,
   "metadata": {},
   "outputs": [
    {
     "data": {
      "image/png": "[encoded data removed]",
      "text/plain": [
       "<Figure size 1080x432 with 1 Axes>"
      ]
     },
     "metadata": {
      "needs_background": "light"
     },
     "output_type": "display_data"
    }
   ],
   "source": [
    "plt.pyplot.figure(figsize=(15,6))\n",
    "seaborn.boxplot(data=dataset_2,\n",
    "                x='Age', y='Purchase',\n",
    "                hue='Marital_Status', order=order)\n",
    "plt.pyplot.legend(bbox_to_anchor=(1.05, 1), loc=2, borderaxespad=0.)\n",
    "seaborn.despine()"
   ]
  },
  {
   "cell_type": "markdown",
   "metadata": {},
   "source": [
    "La distribución de las compras por edad y estado civil deja en evidencia que las personas solteras adquieren productos más costosos cuando superan los 55 años y cuando se encuentran entre los 36-45 años, considerando aún el rango etario 0-17, que por generalidad son personas aún solteras. En el resto de los rangos etarios definidos, las personas casadas adquieren productos más costosos."
   ]
  },
  {
   "cell_type": "markdown",
   "metadata": {},
   "source": [
    "**8. Qué categoría de ciudad posee el mayor porcentaje de compras dada la proporción de usuarios que contiene? Graficar.**"
   ]
  },
  {
   "cell_type": "code",
   "execution_count": 366,
   "metadata": {},
   "outputs": [],
   "source": [
    "dataset_2_1 = pd.DataFrame(dataset, columns=['City_Category', 'User_ID'])"
   ]
  },
  {
   "cell_type": "code",
   "execution_count": 367,
   "metadata": {},
   "outputs": [],
   "source": [
    "usuarios = dataset.drop_duplicates('User_ID')"
   ]
  },
  {
   "cell_type": "code",
   "execution_count": 368,
   "metadata": {},
   "outputs": [
    {
     "data": {
      "text/html": [
       "<div>\n",
       "<style scoped>\n",
       "    .dataframe tbody tr th:only-of-type {\n",
       "        vertical-align: middle;\n",
       "    }\n",
       "\n",
       "    .dataframe tbody tr th {\n",
       "        vertical-align: top;\n",
       "    }\n",
       "\n",
       "    .dataframe thead th {\n",
       "        text-align: right;\n",
       "    }\n",
       "</style>\n",
       "<table border=\"1\" class=\"dataframe\">\n",
       "  <thead>\n",
       "    <tr style=\"text-align: right;\">\n",
       "      <th></th>\n",
       "      <th>City_Category</th>\n",
       "      <th>Cantidad Usuarios</th>\n",
       "    </tr>\n",
       "  </thead>\n",
       "  <tbody>\n",
       "    <tr>\n",
       "      <th>0</th>\n",
       "      <td>A</td>\n",
       "      <td>1045</td>\n",
       "    </tr>\n",
       "    <tr>\n",
       "      <th>1</th>\n",
       "      <td>B</td>\n",
       "      <td>1707</td>\n",
       "    </tr>\n",
       "    <tr>\n",
       "      <th>2</th>\n",
       "      <td>C</td>\n",
       "      <td>3139</td>\n",
       "    </tr>\n",
       "  </tbody>\n",
       "</table>\n",
       "</div>"
      ],
      "text/plain": [
       "  City_Category  Cantidad Usuarios\n",
       "0             A               1045\n",
       "1             B               1707\n",
       "2             C               3139"
      ]
     },
     "execution_count": 368,
     "metadata": {},
     "output_type": "execute_result"
    }
   ],
   "source": [
    "#Cantidad de USUARIOS en cada ciudad.\n",
    "dataset_2_1_C = pd.DataFrame(usuarios.groupby('City_Category').size().reset_index())\n",
    "dataset_2_1_C.rename(columns={0:'Cantidad Usuarios'}, inplace=True)\n",
    "dataset_2_1_C"
   ]
  },
  {
   "cell_type": "code",
   "execution_count": 369,
   "metadata": {},
   "outputs": [
    {
     "data": {
      "text/html": [
       "<div>\n",
       "<style scoped>\n",
       "    .dataframe tbody tr th:only-of-type {\n",
       "        vertical-align: middle;\n",
       "    }\n",
       "\n",
       "    .dataframe tbody tr th {\n",
       "        vertical-align: top;\n",
       "    }\n",
       "\n",
       "    .dataframe thead th {\n",
       "        text-align: right;\n",
       "    }\n",
       "</style>\n",
       "<table border=\"1\" class=\"dataframe\">\n",
       "  <thead>\n",
       "    <tr style=\"text-align: right;\">\n",
       "      <th></th>\n",
       "      <th>City_Category</th>\n",
       "      <th>Cantidad Ordenes</th>\n",
       "    </tr>\n",
       "  </thead>\n",
       "  <tbody>\n",
       "    <tr>\n",
       "      <th>0</th>\n",
       "      <td>A</td>\n",
       "      <td>144638</td>\n",
       "    </tr>\n",
       "    <tr>\n",
       "      <th>1</th>\n",
       "      <td>B</td>\n",
       "      <td>226493</td>\n",
       "    </tr>\n",
       "    <tr>\n",
       "      <th>2</th>\n",
       "      <td>C</td>\n",
       "      <td>166446</td>\n",
       "    </tr>\n",
       "  </tbody>\n",
       "</table>\n",
       "</div>"
      ],
      "text/plain": [
       "  City_Category  Cantidad Ordenes\n",
       "0             A            144638\n",
       "1             B            226493\n",
       "2             C            166446"
      ]
     },
     "execution_count": 369,
     "metadata": {},
     "output_type": "execute_result"
    }
   ],
   "source": [
    "#Cantidad de ORDENES en cada ciudad.\n",
    "dataset_2_1_P = pd.DataFrame(dataset.groupby('City_Category').size().reset_index())\n",
    "dataset_2_1_P.rename(columns={0:'Cantidad Ordenes'}, inplace=True)\n",
    "dataset_2_1_P"
   ]
  },
  {
   "cell_type": "code",
   "execution_count": 370,
   "metadata": {},
   "outputs": [],
   "source": [
    "#Cantidad Total Usuarios\n",
    "q_usuarios = dataset_2_1_C['Cantidad Usuarios'].sum()\n",
    "\n",
    "#Cantidad Total Órdenes\n",
    "q_ordenes = dataset_2_1_P['Cantidad Ordenes'].sum()"
   ]
  },
  {
   "cell_type": "code",
   "execution_count": 371,
   "metadata": {},
   "outputs": [
    {
     "data": {
      "text/html": [
       "<div>\n",
       "<style scoped>\n",
       "    .dataframe tbody tr th:only-of-type {\n",
       "        vertical-align: middle;\n",
       "    }\n",
       "\n",
       "    .dataframe tbody tr th {\n",
       "        vertical-align: top;\n",
       "    }\n",
       "\n",
       "    .dataframe thead th {\n",
       "        text-align: right;\n",
       "    }\n",
       "</style>\n",
       "<table border=\"1\" class=\"dataframe\">\n",
       "  <thead>\n",
       "    <tr style=\"text-align: right;\">\n",
       "      <th></th>\n",
       "      <th>City_Category</th>\n",
       "      <th>Cantidad Usuarios</th>\n",
       "      <th>Cantidad Ordenes</th>\n",
       "      <th>Compra Promedio por usuario</th>\n",
       "      <th>% Usuarios</th>\n",
       "      <th>% Ordenes</th>\n",
       "      <th>Ciudad más demandante</th>\n",
       "    </tr>\n",
       "  </thead>\n",
       "  <tbody>\n",
       "    <tr>\n",
       "      <th>0</th>\n",
       "      <td>A</td>\n",
       "      <td>1045</td>\n",
       "      <td>144638</td>\n",
       "      <td>138.409569</td>\n",
       "      <td>0.177389</td>\n",
       "      <td>0.269055</td>\n",
       "      <td>0.091666</td>\n",
       "    </tr>\n",
       "    <tr>\n",
       "      <th>1</th>\n",
       "      <td>B</td>\n",
       "      <td>1707</td>\n",
       "      <td>226493</td>\n",
       "      <td>132.684827</td>\n",
       "      <td>0.289764</td>\n",
       "      <td>0.421322</td>\n",
       "      <td>0.131558</td>\n",
       "    </tr>\n",
       "    <tr>\n",
       "      <th>2</th>\n",
       "      <td>C</td>\n",
       "      <td>3139</td>\n",
       "      <td>166446</td>\n",
       "      <td>53.025167</td>\n",
       "      <td>0.532847</td>\n",
       "      <td>0.309623</td>\n",
       "      <td>-0.223224</td>\n",
       "    </tr>\n",
       "  </tbody>\n",
       "</table>\n",
       "</div>"
      ],
      "text/plain": [
       "  City_Category  Cantidad Usuarios  Cantidad Ordenes  \\\n",
       "0             A               1045            144638   \n",
       "1             B               1707            226493   \n",
       "2             C               3139            166446   \n",
       "\n",
       "   Compra Promedio por usuario  % Usuarios  % Ordenes  Ciudad más demandante  \n",
       "0                   138.409569    0.177389   0.269055               0.091666  \n",
       "1                   132.684827    0.289764   0.421322               0.131558  \n",
       "2                    53.025167    0.532847   0.309623              -0.223224  "
      ]
     },
     "execution_count": 371,
     "metadata": {},
     "output_type": "execute_result"
    }
   ],
   "source": [
    "tabla = pd.merge(dataset_2_1_C, dataset_2_1_P, how='left', on= 'City_Category')\n",
    "tabla['Compra Promedio por usuario'] = dataset_2_1_P['Cantidad Ordenes'] / dataset_2_1_C['Cantidad Usuarios']\n",
    "tabla['% Usuarios'] = tabla['Cantidad Usuarios'] / q_usuarios\n",
    "tabla['% Ordenes'] = tabla['Cantidad Ordenes'] / q_ordenes\n",
    "tabla['Ciudad más demandante'] = tabla['% Ordenes'] - tabla['% Usuarios']\n",
    "tabla\n"
   ]
  },
  {
   "cell_type": "markdown",
   "metadata": {},
   "source": [
    "Del análisis sobre la cantidad de órdenes por ciudad, surge que la ciudad \"B\" lidera el ránking al concentrar el 42% del total de ordenes analizadas. En segundo lugar, se ubica la ciudad \"C\" que concentra el el 31% del total de órdenes y la ciudad \"A\" completa el 27% restante.\n",
    "No obstante, al considerar la cantidad de usuarios que concentra cada ciudad, surge que \"C\" contiene el 53% del total de consumidores en la muestra, mientras que las ciudades \"A\" y \"B\" contran el 18% y 29%, respectivamente.\n",
    "Por lo tanto, si bien la ciudad \"C\" se ubica en segundo lugar al considerar la cantidad de órdenes ejecutadas, concentra a más de la mitad de los compradores, por lo que debería esperarse un mayor nivel de órdenes."
   ]
  },
  {
   "cell_type": "markdown",
   "metadata": {},
   "source": [
    "Lo comentado previamente se refuerza al observar que la cantidad de ordenes promedio por usuario en la ciudad \"C\" representan menos de la mitad de las órdenes promedio por usuario en las ciudades \"A\" y \"B\"."
   ]
  },
  {
   "cell_type": "code",
   "execution_count": 334,
   "metadata": {},
   "outputs": [
    {
     "data": {
      "text/html": [
       "<div>\n",
       "<style scoped>\n",
       "    .dataframe tbody tr th:only-of-type {\n",
       "        vertical-align: middle;\n",
       "    }\n",
       "\n",
       "    .dataframe tbody tr th {\n",
       "        vertical-align: top;\n",
       "    }\n",
       "\n",
       "    .dataframe thead th {\n",
       "        text-align: right;\n",
       "    }\n",
       "</style>\n",
       "<table border=\"1\" class=\"dataframe\">\n",
       "  <thead>\n",
       "    <tr style=\"text-align: right;\">\n",
       "      <th></th>\n",
       "      <th>City_Category</th>\n",
       "      <th>% Usuarios</th>\n",
       "      <th>% Ordenes</th>\n",
       "    </tr>\n",
       "  </thead>\n",
       "  <tbody>\n",
       "    <tr>\n",
       "      <th>0</th>\n",
       "      <td>A</td>\n",
       "      <td>0.177389</td>\n",
       "      <td>0.269055</td>\n",
       "    </tr>\n",
       "    <tr>\n",
       "      <th>1</th>\n",
       "      <td>B</td>\n",
       "      <td>0.289764</td>\n",
       "      <td>0.421322</td>\n",
       "    </tr>\n",
       "    <tr>\n",
       "      <th>2</th>\n",
       "      <td>C</td>\n",
       "      <td>0.532847</td>\n",
       "      <td>0.309623</td>\n",
       "    </tr>\n",
       "  </tbody>\n",
       "</table>\n",
       "</div>"
      ],
      "text/plain": [
       "  City_Category  % Usuarios  % Ordenes\n",
       "0             A    0.177389   0.269055\n",
       "1             B    0.289764   0.421322\n",
       "2             C    0.532847   0.309623"
      ]
     },
     "execution_count": 334,
     "metadata": {},
     "output_type": "execute_result"
    }
   ],
   "source": [
    "graph = pd.DataFrame(tabla, columns=['City_Category', '% Usuarios', '% Ordenes'])"
   ]
  },
  {
   "cell_type": "code",
   "execution_count": 361,
   "metadata": {},
   "outputs": [
    {
     "data": {
      "image/png": "[encoded data removed]",
      "text/plain": [
       "<Figure size 720x432 with 1 Axes>"
      ]
     },
     "metadata": {
      "needs_background": "light"
     },
     "output_type": "display_data"
    }
   ],
   "source": [
    "plt.pyplot.figure(figsize=(10,6))\n",
    "seaborn.scatterplot(x=\"% Usuarios\", y=\"% Ordenes\", \n",
    "                    hue=\"City_Category\", size='City_Category', sizes=(200,400),\n",
    "                     data=graph)\n",
    "seaborn.despine()"
   ]
  },
  {
   "cell_type": "markdown",
   "metadata": {},
   "source": [
    "En el Scatter-Plot se logra apreciar que la ciudad \"B\" se ubica por encima de la línea de equidistribución mientras que la ciudad \"C\" se ubica por debajo de la línea de equidistribución.\n",
    "La línea de equidistribución es una recta que imaginaria de correspondencia 1-1 entre el % de órdenes y el % de usuarios. En otras palabras, si el % de ordenes coincidiera con el % de usuarios, todos los puntos se ubicarían sobre una recta de 45° que parte del origen.\n",
    "Esto implica, que en la ciudad \"B\" la proporción de órdenes supera ampliamente la proporción de usuarios radicados en la ciudad \"B\". Por otro lado, en la ciudad \"C\" se presenta un caso opuesto, dado que el porcentaje de usuarios supera ampliamente el % de órdenes.\n",
    "En cuanto a la ciudad \"A\" se observa que el % de ordenes supera levemente al % de usuarios. "
   ]
  },
  {
   "cell_type": "code",
   "execution_count": null,
   "metadata": {},
   "outputs": [],
   "source": []
  },
  {
   "cell_type": "markdown",
   "metadata": {},
   "source": [
    "**9. Analizar la correlación entre edad y ocupación de los consumidores**"
   ]
  },
  {
   "cell_type": "code",
   "execution_count": 69,
   "metadata": {},
   "outputs": [],
   "source": [
    "age_occ=pd.pivot_table(dataset[[\"Age\",\"Occupation\"]], index='Occupation', columns='Age',aggfunc=len)\n"
   ]
  },
  {
   "cell_type": "code",
   "execution_count": 76,
   "metadata": {
    "scrolled": true
   },
   "outputs": [
    {
     "data": {
      "text/plain": [
       "<matplotlib.axes._subplots.AxesSubplot at 0x7f8340fe40b8>"
      ]
     },
     "execution_count": 76,
     "metadata": {},
     "output_type": "execute_result"
    },
    {
     "data": {
      "image/png": "[encoded data removed]",
      "text/plain": [
       "<Figure size 432x288 with 2 Axes>"
      ]
     },
     "metadata": {
      "needs_background": "light"
     },
     "output_type": "display_data"
    }
   ],
   "source": [
    "seaborn.heatmap(age_occ.fillna(0))"
   ]
  },
  {
   "cell_type": "code",
   "execution_count": null,
   "metadata": {},
   "outputs": [],
   "source": []
  },
  {
   "cell_type": "markdown",
   "metadata": {},
   "source": [
    "El mapa de calor muestra que en las edades mas bajas (entre 0 y 17), las ocupaciones se encuentran menos dispersos, ubicandose la mayoría en la categoría 10, y unos pocos en la categoría 0. La gran concentración en la categoría 10 podría ser un indicativo de que esta representa a los estudiantes. Luego, en el grupo 18-25, la ocupación que concentra la gran mayoría es la 4, aunque aparecen varias categorías con usuarios que no se encontraban en el grupo anterior. A medida que observamos los grupos de edad mas grandes los puestos de trabajo se distribuyen más homogéneamente a lo largo de las distintas ocupaciones, lo que no significa que todas ocupen las misma cantidad de usuarios. Esta dispersión es mayor en el grupo 26-35, pero progresivamente decae y por último, en el rango etario de 55 años o más, se da una gran concentración en la ocupación 13.   "
   ]
  },
  {
   "cell_type": "code",
   "execution_count": 78,
   "metadata": {},
   "outputs": [],
   "source": [
    "city_occ=pd.pivot_table(dataset[[\"City_Category\",\"Occupation\"]], index='Occupation', columns='City_Category',aggfunc=len)\n"
   ]
  },
  {
   "cell_type": "code",
   "execution_count": 79,
   "metadata": {},
   "outputs": [
    {
     "data": {
      "text/plain": [
       "<matplotlib.axes._subplots.AxesSubplot at 0x7f8341048198>"
      ]
     },
     "execution_count": 79,
     "metadata": {},
     "output_type": "execute_result"
    },
    {
     "data": {
      "image/png": "[encoded data removed]",
      "text/plain": [
       "<Figure size 432x288 with 2 Axes>"
      ]
     },
     "metadata": {
      "needs_background": "light"
     },
     "output_type": "display_data"
    }
   ],
   "source": [
    "seaborn.heatmap(city_occ.fillna(0))"
   ]
  },
  {
   "cell_type": "code",
   "execution_count": 151,
   "metadata": {},
   "outputs": [],
   "source": [
    "purch_occ=pd.pivot_table(dataset[[\"Purchase\",\"Occupation\"]], index='Occupation', columns='Purchase',aggfunc=len)\n"
   ]
  },
  {
   "cell_type": "code",
   "execution_count": 152,
   "metadata": {
    "scrolled": true
   },
   "outputs": [
    {
     "data": {
      "text/plain": [
       "<matplotlib.axes._subplots.AxesSubplot at 0x7fb48cf9efd0>"
      ]
     },
     "execution_count": 152,
     "metadata": {},
     "output_type": "execute_result"
    },
    {
     "data": {
      "image/png": "[encoded data removed]",
      "text/plain": [
       "<Figure size 432x288 with 2 Axes>"
      ]
     },
     "metadata": {
      "needs_background": "light"
     },
     "output_type": "display_data"
    }
   ],
   "source": [
    "seaborn.heatmap(purch_occ)"
   ]
  },
  {
   "cell_type": "code",
   "execution_count": 82,
   "metadata": {},
   "outputs": [],
   "source": [
    "purch_occ=pd.pivot_table(dataset[[\"Stay_In_Current_City_Years\",\"Occupation\"]], index='Occupation', columns=\"Stay_In_Current_City_Years\",aggfunc=len)\n"
   ]
  },
  {
   "cell_type": "code",
   "execution_count": 84,
   "metadata": {},
   "outputs": [
    {
     "data": {
      "text/plain": [
       "<matplotlib.axes._subplots.AxesSubplot at 0x7f8341077f98>"
      ]
     },
     "execution_count": 84,
     "metadata": {},
     "output_type": "execute_result"
    },
    {
     "data": {
      "image/png": "[encoded data removed]",
      "text/plain": [
       "<Figure size 432x288 with 2 Axes>"
      ]
     },
     "metadata": {
      "needs_background": "light"
     },
     "output_type": "display_data"
    }
   ],
   "source": [
    "seaborn.heatmap(purch_occ.fillna(0))"
   ]
  },
  {
   "cell_type": "code",
   "execution_count": null,
   "metadata": {},
   "outputs": [],
   "source": []
  }
 ],
 "metadata": {
  "kernelspec": {
   "display_name": "Python 3",
   "language": "python",
   "name": "python3"
  },
  "language_info": {
   "codemirror_mode": {
    "name": "ipython",
    "version": 3
   },
   "file_extension": ".py",
   "mimetype": "text/x-python",
   "name": "python",
   "nbconvert_exporter": "python",
   "pygments_lexer": "ipython3",
   "version": "3.6.7"
  }
 },
 "nbformat": 4,
 "nbformat_minor": 2
}
